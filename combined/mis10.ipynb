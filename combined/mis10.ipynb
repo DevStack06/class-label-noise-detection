{
 "cells": [
  {
   "cell_type": "code",
   "execution_count": 1,
   "metadata": {},
   "outputs": [],
   "source": [
    "#from __future__ import print_function, division\n",
    "from builtins import range, input\n",
    "import random\n",
    "from sklearn.model_selection import train_test_split\n",
    "import statistics\n",
    "import numpy as np\n",
    "import matplotlib.pyplot as plt\n",
    "from sklearn.tree import DecisionTreeClassifier\n",
    "import pandas as pd\n",
    "from sklearn import datasets\n",
    "import import_ipynb\n",
    "from sklearn import metrics\n",
    "weight_list=[]\n",
    "from sklearn.linear_model import LogisticRegression\n",
    "\n",
    "class AdaBoost:\n",
    "  def __init__(self, M):\n",
    "    self.M = M\n",
    "\n",
    "  def fit(self, X, Y):\n",
    "    self.models = []\n",
    "    self.alphas = []\n",
    "\n",
    "    N, _ = X.shape\n",
    "    W = np.ones(N) / N\n",
    "\n",
    "    for m in range(self.M):\n",
    "      tree =DecisionTreeClassifier(max_depth=1)\n",
    "      tree.fit(X,Y,sample_weight=W)\n",
    "      P = tree.predict(X)\n",
    "\n",
    "      err = W.dot(P != Y)\n",
    "      alpha = 0.5*(np.log(1 - err) - np.log(err))\n",
    "\n",
    "      W = W*np.exp(-alpha*Y*P) # vectorized form\n",
    "      W = W / W.sum() # normalize so it sums to 1\n",
    "      weight_list.append(W)\n",
    "\n",
    "      self.models.append(tree)\n",
    "      self.alphas.append(alpha)\n",
    "\n",
    "  def predict(self, X):\n",
    "    # NOT like SKLearn API\n",
    "    # we want accuracy and exponential loss for plotting purposes\n",
    "    N, _ = X.shape\n",
    "    FX = np.zeros(N)\n",
    "    for alpha, tree in zip(self.alphas, self.models):\n",
    "      FX += alpha*tree.predict(X)\n",
    "    return np.sign(FX), FX\n",
    "\n",
    "  def score(self, X, Y):\n",
    "    # NOT like SKLearn API\n",
    "    # we want accuracy and exponential loss for plotting purposes\n",
    "    P, FX = self.predict(X)\n",
    "    L = np.exp(-Y*FX).mean()\n",
    "    return np.mean(P == Y), L\n",
    "\n",
    "\n",
    "\n",
    "\n",
    "\n",
    "if __name__ == '__main__':\n",
    "    cancer=datasets.load_breast_cancer()\n",
    "    X=cancer.data\n",
    "    Y=cancer.target\n",
    "    Y[Y == 0] = -1\n",
    "    Xtrain, Xtest, Ytrain, Ytest = train_test_split(X, Y, test_size=0.3,random_state=109) # 70% training and 30% test\n",
    "   # make the targets -1,+1\n",
    "    per=(Ytrain.shape[0])*(10/100) #20% data will be mislabeled\n",
    "\n",
    "    k=random.sample(range(Ytrain.shape[0]), int(per)) #list of index no. of mislabeled data\n",
    "    Ytrain=np.array(Ytrain)\n",
    "    for i in k:\n",
    "        if Ytrain[i-1]==1:\n",
    "            Ytrain[i-1]=-1;\n",
    "        else:\n",
    "            Ytrain[i-1]=1\n",
    "#mislabeled data created here till now\n",
    "    itr=10\n",
    "    model = AdaBoost(itr)\n",
    "    model.fit(Xtrain, Ytrain)"
   ]
  },
  {
   "cell_type": "code",
   "execution_count": 2,
   "metadata": {},
   "outputs": [],
   "source": [
    "weight_list=np.array(weight_list)\n",
    "weight_list=np.transpose(weight_list)"
   ]
  },
  {
   "cell_type": "code",
   "execution_count": 3,
   "metadata": {},
   "outputs": [],
   "source": [
    "a=len(weight_list)\n",
    "nm=weight_list[:,itr-1]"
   ]
  },
  {
   "cell_type": "code",
   "execution_count": 4,
   "metadata": {},
   "outputs": [],
   "source": [
    "Q=[]\n",
    "x=[]\n",
    "for i in range(a):\n",
    "    x=[i,nm[i]]\n",
    "    Q.append(x)\n",
    "    x=[]\n",
    "Q.sort(key = lambda Q: Q[1]) \n"
   ]
  },
  {
   "cell_type": "code",
   "execution_count": 5,
   "metadata": {},
   "outputs": [],
   "source": [
    "mis=[]\n",
    "for i in k:\n",
    "    mis.append(nm[i])"
   ]
  },
  {
   "cell_type": "code",
   "execution_count": 6,
   "metadata": {},
   "outputs": [
    {
     "data": {
      "image/png": "[encoded data removed]",
      "text/plain": [
       "<Figure size 432x288 with 1 Axes>"
      ]
     },
     "metadata": {
      "needs_background": "light"
     },
     "output_type": "display_data"
    }
   ],
   "source": [
    "plt.scatter(range(a),nm)\n",
    "plt.scatter(k,mis)\n",
    "plt.xlabel(\"index points\")\n",
    "plt.ylabel(\"weight of elements\")\n",
    "plt.title(\"points captured by our proposed solution \")\n",
    "plt.show()"
   ]
  },
  {
   "cell_type": "code",
   "execution_count": 7,
   "metadata": {},
   "outputs": [
    {
     "data": {
      "image/png": "[encoded data removed]",
      "text/plain": [
       "<Figure size 432x288 with 1 Axes>"
      ]
     },
     "metadata": {
      "needs_background": "light"
     },
     "output_type": "display_data"
    }
   ],
   "source": [
    "plt.xlabel(\"weight of elements\")\n",
    "plt.ylabel(\"frequency of elements\")\n",
    "plt.title(\" frequency of points captured by our proposed solution (20 mislabelled and 10 iteration)\")\n",
    "\n",
    "plt.hist(nm)\n",
    "plt.show()"
   ]
  },
  {
   "cell_type": "code",
   "execution_count": 8,
   "metadata": {},
   "outputs": [],
   "source": [
    "#finding 4th quartile\n",
    "a=len(nm)\n",
    "a2=(a/100)*75\n",
    "a3=(a/100)*88\n",
    "\n",
    "#3rd quartile\n",
    "m3=[]\n",
    "index3=[]\n",
    "inderdash=[]\n",
    "for i in range(int(a2),a):\n",
    "    m3.append(Q[i])\n",
    "for j in m3:\n",
    "    index3.append(j[0])\n",
    "\n",
    "#4th quartile\n",
    "m4=[]\n",
    "index4=[]\n",
    "inderdash=[]\n",
    "for i in range(int(a3),a):\n",
    "    m4.append(Q[i])\n",
    "for j in m4:\n",
    "    index4.append(j[0])"
   ]
  },
  {
   "cell_type": "code",
   "execution_count": 9,
   "metadata": {},
   "outputs": [],
   "source": [
    "def common_member(a, b): \n",
    "    a_set = set(a) \n",
    "    b_set = set(b) \n",
    "    \n",
    "    if (a_set & b_set): \n",
    "        wq=a_set & b_set \n",
    "    else: \n",
    "        print(\"No common elements\")  \n",
    "    return wq"
   ]
  },
  {
   "cell_type": "code",
   "execution_count": 10,
   "metadata": {},
   "outputs": [
    {
     "name": "stdout",
     "output_type": "stream",
     "text": [
      "5\n",
      "11\n",
      "39\n",
      "3rd quartile 100\n",
      "4th quartile 48\n"
     ]
    }
   ],
   "source": [
    "wq1=common_member(k,index4)\n",
    "wq2=common_member(k,index3)\n",
    "print(len(wq1))\n",
    "print(len(wq2))\n",
    "print(len(k))\n",
    "print(\"3rd quartile\",len(index3))\n",
    "print(\"4th quartile\",len(index4))"
   ]
  },
  {
   "cell_type": "code",
   "execution_count": 11,
   "metadata": {},
   "outputs": [],
   "source": [
    "from sklearn.naive_bayes import GaussianNB\n",
    "from sklearn.svm import SVC\n",
    "from sklearn.neighbors import KNeighborsClassifier"
   ]
  },
  {
   "cell_type": "code",
   "execution_count": 12,
   "metadata": {},
   "outputs": [],
   "source": [
    "\n",
    "clf = SVC(kernel='linear') \n",
    "\n",
    "clf1 = KNeighborsClassifier() \n",
    "\n",
    "clf2 = DecisionTreeClassifier() \n",
    "\n",
    "clf3 = GaussianNB() \n",
    "\n",
    "\n",
    "cancer=datasets.load_breast_cancer()"
   ]
  },
  {
   "cell_type": "code",
   "execution_count": 13,
   "metadata": {},
   "outputs": [
    {
     "name": "stdout",
     "output_type": "stream",
     "text": [
      "0.9649122807017544\n",
      "0.9649122807017544\n",
      "0.9415204678362573\n",
      "0.9532163742690059\n"
     ]
    }
   ],
   "source": [
    "X_train, X_test, y_train, y_test = train_test_split(cancer.data, cancer.target, test_size=0.3,random_state=109)\n",
    "clf.fit(X_train, y_train)\n",
    "y_pred_mis = clf.predict(X_test)\n",
    "clf1.fit(X_train, y_train)\n",
    "y_pred_mis1 = clf1.predict(X_test)\n",
    "clf2.fit(X_train, y_train)\n",
    "y_pred_mis2 = clf2.predict(X_test)\n",
    "clf3.fit(X_train, y_train)\n",
    "y_pred_mis3 = clf3.predict(X_test)\n",
    "\n",
    "\n",
    "print(metrics.accuracy_score(y_test, y_pred_mis))\n",
    "print(metrics.accuracy_score(y_test, y_pred_mis1))\n",
    "print(metrics.accuracy_score(y_test, y_pred_mis2))\n",
    "print(metrics.accuracy_score(y_test, y_pred_mis3))"
   ]
  },
  {
   "cell_type": "code",
   "execution_count": 14,
   "metadata": {},
   "outputs": [],
   "source": [
    "per=(y_train.shape[0])*(10/100) #20% data will be mislabeled\n",
    "\n",
    "k=random.sample(range(y_train.shape[0]), int(per)) #list of index no. of mislabeled data\n",
    "y_train=np.array(y_train)\n",
    "for i in k:\n",
    "    if y_train[i-1]==1:\n",
    "        y_train[i-1]=0;\n",
    "    else:\n",
    "        y_train[i-1]=1"
   ]
  },
  {
   "cell_type": "code",
   "execution_count": 15,
   "metadata": {},
   "outputs": [
    {
     "name": "stdout",
     "output_type": "stream",
     "text": [
      "[0 1 1 1 1 1 1 0 0 1 0 1 1 0 0 0 0 1 0 1 0 1 1 0 1 0 0 1 0 1 1 1 1 1 1 1 0\n",
      " 1 0 1 0 0 1 0 0 0 1 1 0 1 0 1 0 0 1 0 0 1 1 1 1 1 1 0 0 1 1 1 1 1 1 1 1 0\n",
      " 1 1 1 1 1 1 1 1 0 1 1 1 1 0 1 1 1 1 1 1 1 0 1 1 1 0 1 1 0 1 1 1 0 1 1 0 0\n",
      " 0 1 1 1 0 1 1 1 0 1 1 1 1 0 1 0 0 0 1 0 1 1 1 0 1 0 1 1 0 1 0 1 0 0 0 1 1\n",
      " 1 1 1 0 1 1 1 0 0 1 0 1 0 0 1 0 1 1 0 0 1 1 1 1 1 1 1 0 1 0 1 0 0 0 1 1 0\n",
      " 0 0 1 1 1 0 1 1 0 0 1 0 1 0 0 0 0 1 0 1 1 0 1 0 1 1 1 1 1 0 1 1 1 0 0 0 1\n",
      " 1 0 1 1 0 1 1 0 0 0 1 1 1 0 1 0 1 0 1 1 1 0 0 0 1 0 1 0 1 0 0 0 0 0 1 1 1\n",
      " 1 0 1 1 1 0 1 0 1 1 0 1 0 1 0 0 1 0 1 1 1 1 1 1 0 0 1 0 0 0 1 1 1 0 1 1 1\n",
      " 0 1 0 0 1 1 1 0 0 0 1 0 0 1 0 1 1 0 0 1 0 1 1 1 1 1 0 1 1 1 1 0 0 1 1 0 1\n",
      " 0 0 0 1 0 0 1 1 1 1 1 0 1 1 1 1 1 1 0 1 0 0 1 1 1 0 0 1 0 1 0 0 1 1 1 1 0\n",
      " 1 1 1 1 1 1 1 0 1 1 1 0 1 0 1 1 0 1 0 1 0 1 1 0 1 0 1 1]\n"
     ]
    }
   ],
   "source": [
    "print(y_train)"
   ]
  },
  {
   "cell_type": "code",
   "execution_count": 16,
   "metadata": {},
   "outputs": [
    {
     "name": "stdout",
     "output_type": "stream",
     "text": [
      "0.9649122807017544\n",
      "0.9532163742690059\n",
      "0.8654970760233918\n",
      "0.9415204678362573\n"
     ]
    }
   ],
   "source": [
    "clf.fit(X_train, y_train)\n",
    "y_pred_mis = clf.predict(X_test)\n",
    "clf1.fit(X_train, y_train)\n",
    "y_pred_mis1 = clf1.predict(X_test)\n",
    "clf2.fit(X_train, y_train)\n",
    "y_pred_mis2 = clf2.predict(X_test)\n",
    "clf3.fit(X_train, y_train)\n",
    "y_pred_mis3 = clf3.predict(X_test)\n",
    "\n",
    "\n",
    "print(metrics.accuracy_score(y_test, y_pred_mis))\n",
    "print(metrics.accuracy_score(y_test, y_pred_mis1))\n",
    "print(metrics.accuracy_score(y_test, y_pred_mis2))\n",
    "print(metrics.accuracy_score(y_test, y_pred_mis3))"
   ]
  },
  {
   "cell_type": "code",
   "execution_count": 35,
   "metadata": {},
   "outputs": [],
   "source": [
    "model=LogisticRegression()"
   ]
  },
  {
   "cell_type": "markdown",
   "metadata": {},
   "source": [
    "## 3r quartile result start from here"
   ]
  },
  {
   "cell_type": "code",
   "execution_count": 36,
   "metadata": {},
   "outputs": [],
   "source": [
    "x=[]\n",
    "y=[]\n",
    "for i in range(X_train.shape[0]):\n",
    "    if i not in index3:\n",
    "        x.append(X_train[i])\n",
    "        y.append(y_train[i])"
   ]
  },
  {
   "cell_type": "code",
   "execution_count": 37,
   "metadata": {},
   "outputs": [],
   "source": [
    "x=np.array(x)\n",
    "y=np.array(y)"
   ]
  },
  {
   "cell_type": "code",
   "execution_count": 54,
   "metadata": {},
   "outputs": [
    {
     "name": "stdout",
     "output_type": "stream",
     "text": [
      "171\n",
      "[0.         0.00584795 0.57894737 0.85380117 1.        ]\n"
     ]
    },
    {
     "name": "stderr",
     "output_type": "stream",
     "text": [
      "/home/balram/anaconda3/lib/python3.7/site-packages/sklearn/svm/base.py:196: FutureWarning: The default value of gamma will change from 'auto' to 'scale' in version 0.22 to account better for unscaled features. Set gamma explicitly to 'auto' or 'scale' to avoid this warning.\n",
      "  \"avoid this warning.\", FutureWarning)\n",
      "/home/balram/anaconda3/lib/python3.7/site-packages/sklearn/metrics/ranking.py:656: UndefinedMetricWarning: No positive samples in y_true, true positive value should be meaningless\n",
      "  UndefinedMetricWarning)\n"
     ]
    }
   ],
   "source": [
    "#for 3rd quartile\n",
    "model=model.fit(x,y)\n",
    "probs = model.predict_proba(Xtest)\n",
    "scores_3 = probs[:,1]\n",
    "# print(scores_3)\n",
    "print(len(Ytest))\n",
    "fpr_3, tpr_3, thresholds_3 = metrics.roc_curve(Ytest, scores_3, pos_label=2)\n",
    "print(fpr_3)"
   ]
  },
  {
   "cell_type": "markdown",
   "metadata": {},
   "source": [
    "## accuracy of all four model with removing the cilprit points"
   ]
  },
  {
   "cell_type": "code",
   "execution_count": 39,
   "metadata": {},
   "outputs": [
    {
     "name": "stdout",
     "output_type": "stream",
     "text": [
      "0.9766081871345029\n",
      "0.9532163742690059\n",
      "0.8654970760233918\n",
      "0.9473684210526315\n"
     ]
    }
   ],
   "source": [
    "clf.fit(x, y)\n",
    "y_pred_mis = clf.predict(X_test)\n",
    "clf1.fit(x, y)\n",
    "y_pred_mis1 = clf1.predict(X_test)\n",
    "clf2.fit(x, y)\n",
    "y_pred_mis2 = clf2.predict(X_test)\n",
    "clf3.fit(x, y)\n",
    "y_pred_mis3 = clf3.predict(X_test)\n",
    "\n",
    "\n",
    "print(metrics.accuracy_score(y_test, y_pred_mis))\n",
    "print(metrics.accuracy_score(y_test, y_pred_mis1))\n",
    "print(metrics.accuracy_score(y_test, y_pred_mis2))\n",
    "print(metrics.accuracy_score(y_test, y_pred_mis3))"
   ]
  },
  {
   "cell_type": "markdown",
   "metadata": {},
   "source": [
    "## accuracy after fliping the culprit points"
   ]
  },
  {
   "cell_type": "code",
   "execution_count": 40,
   "metadata": {},
   "outputs": [],
   "source": [
    "x=[]\n",
    "y=[]\n",
    "for i in range(X_train.shape[0]):\n",
    "    if i not in index4:\n",
    "        x.append(X_train[i])\n",
    "        y.append(y_train[i])\n",
    "        "
   ]
  },
  {
   "cell_type": "code",
   "execution_count": 41,
   "metadata": {},
   "outputs": [
    {
     "name": "stdout",
     "output_type": "stream",
     "text": [
      "350\n"
     ]
    }
   ],
   "source": [
    "print(len(x))"
   ]
  },
  {
   "cell_type": "code",
   "execution_count": 42,
   "metadata": {},
   "outputs": [
    {
     "name": "stderr",
     "output_type": "stream",
     "text": [
      "/home/balram/anaconda3/lib/python3.7/site-packages/sklearn/linear_model/logistic.py:433: FutureWarning: Default solver will be changed to 'lbfgs' in 0.22. Specify a solver to silence this warning.\n",
      "  FutureWarning)\n",
      "/home/balram/anaconda3/lib/python3.7/site-packages/sklearn/metrics/ranking.py:656: UndefinedMetricWarning: No positive samples in y_true, true positive value should be meaningless\n",
      "  UndefinedMetricWarning)\n"
     ]
    },
    {
     "name": "stdout",
     "output_type": "stream",
     "text": [
      "0.9824561403508771\n",
      "0.9649122807017544\n",
      "0.8654970760233918\n",
      "0.9415204678362573\n"
     ]
    }
   ],
   "source": [
    "x=np.array(x)\n",
    "y=np.array(y)\n",
    "\n",
    "#for 3rd quartile\n",
    "model=model.fit(x,y)\n",
    "probs = model.predict_proba(Xtest)\n",
    "scores_4 = probs[:,1]\n",
    "fpr_4, tpr_4, thresholds_4 = metrics.roc_curve(Ytest, scores_4, pos_label=2)\n",
    "clf.fit(x, y)\n",
    "y_pred_mis = clf.predict(X_test)\n",
    "clf1.fit(x, y)\n",
    "y_pred_mis1 = clf1.predict(X_test)\n",
    "clf2.fit(x, y)\n",
    "y_pred_mis2 = clf2.predict(X_test)\n",
    "clf3.fit(x, y)\n",
    "y_pred_mis3 = clf3.predict(X_test)\n",
    "\n",
    "\n",
    "print(metrics.accuracy_score(y_test, y_pred_mis))\n",
    "print(metrics.accuracy_score(y_test, y_pred_mis1))\n",
    "print(metrics.accuracy_score(y_test, y_pred_mis2))\n",
    "print(metrics.accuracy_score(y_test, y_pred_mis3))\n"
   ]
  },
  {
   "cell_type": "markdown",
   "metadata": {},
   "source": [
    "## score calculation"
   ]
  },
  {
   "cell_type": "code",
   "execution_count": 43,
   "metadata": {},
   "outputs": [
    {
     "name": "stderr",
     "output_type": "stream",
     "text": [
      "/home/balram/anaconda3/lib/python3.7/site-packages/sklearn/svm/base.py:196: FutureWarning: The default value of gamma will change from 'auto' to 'scale' in version 0.22 to account better for unscaled features. Set gamma explicitly to 'auto' or 'scale' to avoid this warning.\n",
      "  \"avoid this warning.\", FutureWarning)\n",
      "/home/balram/anaconda3/lib/python3.7/site-packages/sklearn/metrics/ranking.py:656: UndefinedMetricWarning: No positive samples in y_true, true positive value should be meaningless\n",
      "  UndefinedMetricWarning)\n",
      "/home/balram/anaconda3/lib/python3.7/site-packages/sklearn/svm/base.py:196: FutureWarning: The default value of gamma will change from 'auto' to 'scale' in version 0.22 to account better for unscaled features. Set gamma explicitly to 'auto' or 'scale' to avoid this warning.\n",
      "  \"avoid this warning.\", FutureWarning)\n",
      "/home/balram/anaconda3/lib/python3.7/site-packages/sklearn/metrics/ranking.py:656: UndefinedMetricWarning: No positive samples in y_true, true positive value should be meaningless\n",
      "  UndefinedMetricWarning)\n"
     ]
    }
   ],
   "source": [
    "X=cancer.data\n",
    "Y=cancer.target\n",
    "# Y[Y == 0] = -1\n",
    "Xtrain, Xtest, Ytrain, Ytest = train_test_split(X, Y, test_size=0.3,random_state=109)\n",
    "\n",
    "#for real case\n",
    "model=SVC(probability=True)\n",
    "model=model.fit(Xtrain,Ytrain)\n",
    "probs = model.predict_proba(Xtest)\n",
    "scores = probs[:,1]\n",
    "# print(scores)\n",
    "\n",
    "fpr, tpr, thresholds = metrics.roc_curve(Ytest, scores, pos_label=2)\n",
    "\n",
    "for i in k:\n",
    "    if Ytrain[i-1]==1:\n",
    "        Ytrain[i-1]=-1;\n",
    "    else:\n",
    "        Ytrain[i-1]=1\n",
    "\n",
    "\n",
    "#for mislabel\n",
    "model=model.fit(Xtrain,Ytrain)\n",
    "probs = model.predict_proba(Xtest)\n",
    "scores_m = probs[:,1]\n",
    "fpr_m, tpr_m, thresholds_m = metrics.roc_curve(Ytest, scores_m, pos_label=2)\n",
    "\n",
    "\n",
    "\n"
   ]
  },
  {
   "cell_type": "code",
   "execution_count": 49,
   "metadata": {},
   "outputs": [],
   "source": [
    "from sklearn.metrics import roc_auc_score\n",
    "roc_auc = metrics.auc(fpr, tpr)"
   ]
  },
  {
   "cell_type": "code",
   "execution_count": 50,
   "metadata": {},
   "outputs": [
    {
     "data": {
      "text/plain": [
       "[<matplotlib.lines.Line2D at 0x7f1f9db7ae48>]"
      ]
     },
     "execution_count": 50,
     "metadata": {},
     "output_type": "execute_result"
    },
    {
     "data": {
      "image/png": "[encoded data removed]",
      "text/plain": [
       "<Figure size 432x288 with 1 Axes>"
      ]
     },
     "metadata": {
      "needs_background": "light"
     },
     "output_type": "display_data"
    }
   ],
   "source": [
    "plt.plot(fpr, tpr, 'b', label = 'AUC = %0.2f' % roc_auc)"
   ]
  },
  {
   "cell_type": "code",
   "execution_count": null,
   "metadata": {},
   "outputs": [],
   "source": []
  }
 ],
 "metadata": {
  "kernelspec": {
   "display_name": "Python 3",
   "language": "python",
   "name": "python3"
  },
  "language_info": {
   "codemirror_mode": {
    "name": "ipython",
    "version": 3
   },
   "file_extension": ".py",
   "mimetype": "text/x-python",
   "name": "python",
   "nbconvert_exporter": "python",
   "pygments_lexer": "ipython3",
   "version": "3.7.1"
  }
 },
 "nbformat": 4,
 "nbformat_minor": 2
}

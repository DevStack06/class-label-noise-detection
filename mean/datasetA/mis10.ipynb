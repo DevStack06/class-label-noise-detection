{
 "cells": [
  {
   "cell_type": "markdown",
   "metadata": {},
   "source": [
    "## adaboost code start"
   ]
  },
  {
   "cell_type": "code",
   "execution_count": null,
   "metadata": {},
   "outputs": [],
   "source": [
    "#from __future__ import print_function, division\n",
    "from builtins import range, input\n",
    "import random\n",
    "from sklearn.model_selection import train_test_split\n",
    "import statistics\n",
    "import numpy as np\n",
    "import matplotlib.pyplot as plt\n",
    "from sklearn.tree import DecisionTreeClassifier\n",
    "import pandas as pd\n",
    "from sklearn import datasets\n",
    "import import_ipynb\n",
    "from sklearn import metrics\n",
    "weight_list=[]\n",
    "from sklearn.linear_model import LogisticRegression\n",
    "\n",
    "class AdaBoost:\n",
    "  def __init__(self, M):\n",
    "    self.M = M\n",
    "\n",
    "  def fit(self, X, Y):\n",
    "    self.models = []\n",
    "    self.alphas = []\n",
    "\n",
    "    N, _ = X.shape\n",
    "    W = np.ones(N) / N\n",
    "\n",
    "    for m in range(self.M):\n",
    "      tree =DecisionTreeClassifier(max_depth=1)\n",
    "      tree.fit(X,Y,sample_weight=W)\n",
    "      P = tree.predict(X)\n",
    "\n",
    "      err = W.dot(P != Y)\n",
    "      alpha = 0.5*(np.log(1 - err) - np.log(err))\n",
    "\n",
    "      W = W*np.exp(-alpha*Y*P) # vectorized form\n",
    "      W = W / W.sum() # normalize so it sums to 1\n",
    "      weight_list.append(W)\n",
    "\n",
    "      self.models.append(tree)\n",
    "      self.alphas.append(alpha)\n",
    "\n",
    "  def predict(self, X):\n",
    "    # NOT like SKLearn API\n",
    "    # we want accuracy and exponential loss for plotting purposes\n",
    "    N, _ = X.shape\n",
    "    FX = np.zeros(N)\n",
    "    for alpha, tree in zip(self.alphas, self.models):\n",
    "      FX += alpha*tree.predict(X)\n",
    "    return np.sign(FX), FX\n",
    "\n",
    "  def score(self, X, Y):\n",
    "    # NOT like SKLearn API\n",
    "    # we want accuracy and exponential loss for plotting purposes\n",
    "    P, FX = self.predict(X)\n",
    "    L = np.exp(-Y*FX).mean()\n",
    "    return np.mean(P == Y), L\n",
    "\n",
    "\n",
    "\n",
    "\n",
    "\n",
    "if __name__ == '__main__':\n",
    "    cancer=datasets.load_breast_cancer()\n",
    "    X=cancer.data\n",
    "    Y=cancer.target\n",
    "    Y[Y == 0] = -1\n",
    "    Xtrain, Xtest, Ytrain, Ytest = train_test_split(X, Y, test_size=0.2,random_state=109) # 70% training and 30% test\n",
    "   # make the targets -1,+1\n",
    "    per=(Ytrain.shape[0])*(10/100) #20% data will be mislabeled\n",
    "\n",
    "    k=random.sample(range(Ytrain.shape[0]), int(per)) #list of index no. of mislabeled data\n",
    "    Ytrain=np.array(Ytrain)\n",
    "    for i in k:\n",
    "        if Ytrain[i-1]==1:\n",
    "            Ytrain[i-1]=-1;\n",
    "        else:\n",
    "            Ytrain[i-1]=1\n",
    "#mislabeled data created here till now\n",
    "    itr=10\n",
    "    model = AdaBoost(itr)\n",
    "    model.fit(Xtrain, Ytrain)"
   ]
  },
  {
   "cell_type": "markdown",
   "metadata": {},
   "source": [
    "## adaboost code end here"
   ]
  },
  {
   "cell_type": "code",
   "execution_count": 7,
   "metadata": {},
   "outputs": [],
   "source": [
    "weight_list=np.array(weight_list)\n",
    "weight_list=np.transpose(weight_list)"
   ]
  },
  {
   "cell_type": "code",
   "execution_count": 8,
   "metadata": {},
   "outputs": [],
   "source": [
    "a=len(weight_list)\n",
    "nm=weight_list[:,itr-1]"
   ]
  },
  {
   "cell_type": "code",
   "execution_count": 9,
   "metadata": {},
   "outputs": [],
   "source": [
    "\n",
    "Q=[]\n",
    "x=[]\n",
    "for i in range(a):\n",
    "    x=[i,nm[i]]\n",
    "    Q.append(x)\n",
    "    x=[]\n",
    "Q.sort(key = lambda Q: Q[1]) \n"
   ]
  },
  {
   "cell_type": "code",
   "execution_count": 10,
   "metadata": {},
   "outputs": [],
   "source": [
    "mis=[]\n",
    "for i in k:\n",
    "    mis.append(nm[i])"
   ]
  },
  {
   "cell_type": "markdown",
   "metadata": {},
   "source": [
    "## visulizing of the data"
   ]
  },
  {
   "cell_type": "code",
   "execution_count": 11,
   "metadata": {},
   "outputs": [
    {
     "data": {
      "image/png": "[encoded data removed]",
      "text/plain": [
       "<Figure size 432x288 with 1 Axes>"
      ]
     },
     "metadata": {
      "needs_background": "light"
     },
     "output_type": "display_data"
    }
   ],
   "source": [
    "plt.scatter(range(a),nm)\n",
    "plt.scatter(k,mis)\n",
    "plt.xlabel(\"index points\")\n",
    "plt.ylabel(\"weight of elements\")\n",
    "plt.title(\"points captured by our proposed solution \")\n",
    "plt.show()"
   ]
  },
  {
   "cell_type": "code",
   "execution_count": 12,
   "metadata": {},
   "outputs": [
    {
     "data": {
      "image/png": "[encoded data removed]",
      "text/plain": [
       "<Figure size 432x288 with 1 Axes>"
      ]
     },
     "metadata": {
      "needs_background": "light"
     },
     "output_type": "display_data"
    }
   ],
   "source": [
    "plt.xlabel(\"weight of elements\")\n",
    "plt.ylabel(\"frequency of elements\")\n",
    "plt.title(\" frequency of points captured by our proposed solution (20 mislabelled and 10 iteration)\")\n",
    "\n",
    "plt.hist(nm)\n",
    "plt.show()"
   ]
  },
  {
   "cell_type": "code",
   "execution_count": 13,
   "metadata": {},
   "outputs": [],
   "source": [
    "#finding 4th quartile\n",
    "a=len(nm)\n",
    "a2=(a/100)*75\n",
    "a3=(a/100)*88\n",
    "\n",
    "#3rd quartile\n",
    "m3=[]\n",
    "index3=[]\n",
    "inderdash=[]\n",
    "for i in range(int(a2),a):\n",
    "    m3.append(Q[i])\n",
    "for j in m3:\n",
    "    index3.append(j[0])\n",
    "\n",
    "#4th quartile\n",
    "m4=[]\n",
    "index4=[]\n",
    "inderdash=[]\n",
    "for i in range(int(a3),a):\n",
    "    m4.append(Q[i])\n",
    "for j in m4:\n",
    "    index4.append(j[0])"
   ]
  },
  {
   "cell_type": "code",
   "execution_count": 14,
   "metadata": {},
   "outputs": [],
   "source": [
    "def common_member(a, b): \n",
    "    a_set = set(a) \n",
    "    b_set = set(b) \n",
    "    \n",
    "    if (a_set & b_set): \n",
    "        wq=a_set & b_set \n",
    "    else: \n",
    "        print(\"No common elements\")  \n",
    "    return wq"
   ]
  },
  {
   "cell_type": "markdown",
   "metadata": {},
   "source": [
    "## culprit points "
   ]
  },
  {
   "cell_type": "code",
   "execution_count": 15,
   "metadata": {},
   "outputs": [
    {
     "name": "stdout",
     "output_type": "stream",
     "text": [
      "2\n",
      "10\n",
      "45\n",
      "3rd quartile 114\n",
      "4th quartile 55\n"
     ]
    }
   ],
   "source": [
    "wq1=common_member(k,index4)\n",
    "wq2=common_member(k,index3)\n",
    "print(len(wq1))\n",
    "print(len(wq2))\n",
    "print(len(k))\n",
    "print(\"3rd quartile\",len(index3))\n",
    "print(\"4th quartile\",len(index4))"
   ]
  },
  {
   "cell_type": "markdown",
   "metadata": {},
   "source": [
    "## accuracy predction"
   ]
  },
  {
   "cell_type": "code",
   "execution_count": 11,
   "metadata": {},
   "outputs": [],
   "source": [
    "from sklearn.naive_bayes import GaussianNB\n",
    "from sklearn.svm import SVC\n",
    "from sklearn.neighbors import KNeighborsClassifier"
   ]
  },
  {
   "cell_type": "code",
   "execution_count": 12,
   "metadata": {},
   "outputs": [],
   "source": [
    "\n",
    "clf = SVC(kernel='linear') \n",
    "\n",
    "clf1 = KNeighborsClassifier() \n",
    "\n",
    "clf2 = DecisionTreeClassifier() \n",
    "\n",
    "clf3 = GaussianNB() \n",
    "\n",
    "\n",
    "cancer=datasets.load_breast_cancer()"
   ]
  },
  {
   "cell_type": "code",
   "execution_count": 13,
   "metadata": {},
   "outputs": [
    {
     "name": "stdout",
     "output_type": "stream",
     "text": [
      "0.9649122807017544\n",
      "0.9649122807017544\n",
      "0.9649122807017544\n",
      "0.9532163742690059\n"
     ]
    }
   ],
   "source": [
    "X_train, X_test, y_train, y_test = train_test_split(cancer.data, cancer.target, test_size=0.3,random_state=109)\n",
    "clf.fit(X_train, y_train)\n",
    "y_pred_mis = clf.predict(X_test)\n",
    "clf1.fit(X_train, y_train)\n",
    "y_pred_mis1 = clf1.predict(X_test)\n",
    "clf2.fit(X_train, y_train)\n",
    "y_pred_mis2 = clf2.predict(X_test)\n",
    "clf3.fit(X_train, y_train)\n",
    "y_pred_mis3 = clf3.predict(X_test)\n",
    "\n",
    "\n",
    "print(metrics.accuracy_score(y_test, y_pred_mis))\n",
    "print(metrics.accuracy_score(y_test, y_pred_mis1))\n",
    "print(metrics.accuracy_score(y_test, y_pred_mis2))\n",
    "print(metrics.accuracy_score(y_test, y_pred_mis3))"
   ]
  },
  {
   "cell_type": "code",
   "execution_count": 14,
   "metadata": {},
   "outputs": [],
   "source": [
    "per=(y_train.shape[0])*(10/100) #20% data will be mislabeled\n",
    "\n",
    "k=random.sample(range(y_train.shape[0]), int(per)) #list of index no. of mislabeled data\n",
    "y_train=np.array(y_train)\n",
    "for i in k:\n",
    "    if y_train[i-1]==1:\n",
    "        y_train[i-1]=0;\n",
    "    else:\n",
    "        y_train[i-1]=1"
   ]
  },
  {
   "cell_type": "code",
   "execution_count": 15,
   "metadata": {},
   "outputs": [
    {
     "name": "stdout",
     "output_type": "stream",
     "text": [
      "[0 0 1 0 0 1 1 0 0 1 0 1 1 0 0 0 0 1 0 1 1 1 0 1 1 0 0 1 0 1 1 0 1 1 0 1 0\n",
      " 1 0 1 0 1 0 0 0 0 1 0 0 1 0 1 0 0 1 0 1 1 1 1 1 1 1 0 0 1 1 1 1 1 1 1 1 0\n",
      " 1 1 1 1 0 1 1 1 0 1 1 1 1 0 1 0 1 1 1 1 1 0 1 1 0 0 1 1 0 1 1 1 0 0 1 0 0\n",
      " 0 1 1 1 0 1 1 1 0 0 1 1 1 0 1 0 0 0 1 0 1 1 1 0 1 0 1 0 0 1 1 1 1 0 0 1 0\n",
      " 1 1 1 0 1 1 1 0 0 1 0 1 0 0 0 0 1 0 0 0 1 0 1 1 1 1 1 1 1 0 1 0 0 0 1 1 0\n",
      " 1 0 0 1 1 1 0 1 0 0 1 0 1 1 1 0 0 1 0 1 1 1 1 0 1 1 1 0 1 0 1 1 0 0 0 0 1\n",
      " 0 0 1 1 1 0 1 1 0 0 1 1 1 0 1 0 1 1 0 1 1 0 0 0 1 1 1 0 1 0 0 0 0 0 1 1 1\n",
      " 1 0 1 1 1 0 1 1 0 1 0 1 0 0 0 0 1 0 1 1 1 1 1 1 1 0 0 0 1 0 0 1 1 1 0 1 1\n",
      " 0 1 0 0 0 1 1 0 0 0 1 0 1 0 1 1 1 0 0 0 0 1 1 1 0 1 0 1 1 0 1 1 0 0 1 1 1\n",
      " 0 1 0 1 0 0 1 1 1 1 1 1 1 1 1 1 1 1 0 0 0 1 1 1 1 0 0 1 1 1 0 1 1 1 1 1 0\n",
      " 1 1 1 1 1 1 0 1 1 0 1 0 1 1 1 1 1 0 0 0 0 1 1 0 1 0 1 0]\n"
     ]
    }
   ],
   "source": [
    "print(y_train)"
   ]
  },
  {
   "cell_type": "code",
   "execution_count": 16,
   "metadata": {},
   "outputs": [
    {
     "name": "stdout",
     "output_type": "stream",
     "text": [
      "0.9707602339181286\n",
      "0.935672514619883\n",
      "0.8538011695906432\n",
      "0.9415204678362573\n"
     ]
    }
   ],
   "source": [
    "clf.fit(X_train, y_train)\n",
    "y_pred_mis = clf.predict(X_test)\n",
    "clf1.fit(X_train, y_train)\n",
    "y_pred_mis1 = clf1.predict(X_test)\n",
    "clf2.fit(X_train, y_train)\n",
    "y_pred_mis2 = clf2.predict(X_test)\n",
    "clf3.fit(X_train, y_train)\n",
    "y_pred_mis3 = clf3.predict(X_test)\n",
    "\n",
    "\n",
    "print(metrics.accuracy_score(y_test, y_pred_mis))\n",
    "print(metrics.accuracy_score(y_test, y_pred_mis1))\n",
    "print(metrics.accuracy_score(y_test, y_pred_mis2))\n",
    "print(metrics.accuracy_score(y_test, y_pred_mis3))"
   ]
  },
  {
   "cell_type": "markdown",
   "metadata": {},
   "source": [
    "## 3r quartile result start from here"
   ]
  },
  {
   "cell_type": "code",
   "execution_count": 17,
   "metadata": {},
   "outputs": [],
   "source": [
    "x=[]\n",
    "y=[]\n",
    "for i in range(X_train.shape[0]):\n",
    "    if i not in index3:\n",
    "        x.append(X_train[i])\n",
    "        y.append(y_train[i])"
   ]
  },
  {
   "cell_type": "code",
   "execution_count": 18,
   "metadata": {},
   "outputs": [],
   "source": [
    "x=np.array(x)\n",
    "y=np.array(y)"
   ]
  },
  {
   "cell_type": "markdown",
   "metadata": {},
   "source": [
    "## accuracy of all four model with removing the cilprit points"
   ]
  },
  {
   "cell_type": "code",
   "execution_count": 19,
   "metadata": {},
   "outputs": [
    {
     "name": "stdout",
     "output_type": "stream",
     "text": [
      "0.9590643274853801\n",
      "0.9707602339181286\n",
      "0.8771929824561403\n",
      "0.9473684210526315\n"
     ]
    }
   ],
   "source": [
    "clf.fit(x, y)\n",
    "y_pred_mis = clf.predict(X_test)\n",
    "clf1.fit(x, y)\n",
    "y_pred_mis1 = clf1.predict(X_test)\n",
    "clf2.fit(x, y)\n",
    "y_pred_mis2 = clf2.predict(X_test)\n",
    "clf3.fit(x, y)\n",
    "y_pred_mis3 = clf3.predict(X_test)\n",
    "\n",
    "\n",
    "print(metrics.accuracy_score(y_test, y_pred_mis))\n",
    "print(metrics.accuracy_score(y_test, y_pred_mis1))\n",
    "print(metrics.accuracy_score(y_test, y_pred_mis2))\n",
    "print(metrics.accuracy_score(y_test, y_pred_mis3))"
   ]
  },
  {
   "cell_type": "markdown",
   "metadata": {},
   "source": [
    "## accuracy after fliping the culprit points"
   ]
  },
  {
   "cell_type": "code",
   "execution_count": 30,
   "metadata": {},
   "outputs": [],
   "source": [
    "x=[]\n",
    "y=[]\n",
    "for i in range(X_train.shape[0]):\n",
    "    if i not in index4:\n",
    "        x.append(X_train[i])\n",
    "        y.append(y_train[i])\n",
    "        "
   ]
  },
  {
   "cell_type": "code",
   "execution_count": 29,
   "metadata": {},
   "outputs": [
    {
     "name": "stdout",
     "output_type": "stream",
     "text": [
      "343\n"
     ]
    }
   ],
   "source": [
    "print(len(x))"
   ]
  },
  {
   "cell_type": "code",
   "execution_count": 31,
   "metadata": {},
   "outputs": [
    {
     "name": "stdout",
     "output_type": "stream",
     "text": [
      "0.9239766081871345\n",
      "0.9473684210526315\n",
      "0.8713450292397661\n",
      "0.9415204678362573\n"
     ]
    }
   ],
   "source": [
    "x=np.array(x)\n",
    "y=np.array(y)\n",
    "\n",
    "clf.fit(x, y)\n",
    "y_pred_mis = clf.predict(X_test)\n",
    "clf1.fit(x, y)\n",
    "y_pred_mis1 = clf1.predict(X_test)\n",
    "clf2.fit(x, y)\n",
    "y_pred_mis2 = clf2.predict(X_test)\n",
    "clf3.fit(x, y)\n",
    "y_pred_mis3 = clf3.predict(X_test)\n",
    "\n",
    "\n",
    "print(metrics.accuracy_score(y_test, y_pred_mis))\n",
    "print(metrics.accuracy_score(y_test, y_pred_mis1))\n",
    "print(metrics.accuracy_score(y_test, y_pred_mis2))\n",
    "print(metrics.accuracy_score(y_test, y_pred_mis3))\n"
   ]
  }
 ],
 "metadata": {
  "kernelspec": {
   "display_name": "Python 3",
   "language": "python",
   "name": "python3"
  },
  "language_info": {
   "codemirror_mode": {
    "name": "ipython",
    "version": 3
   },
   "file_extension": ".py",
   "mimetype": "text/x-python",
   "name": "python",
   "nbconvert_exporter": "python",
   "pygments_lexer": "ipython3",
   "version": "3.7.1"
  }
 },
 "nbformat": 4,
 "nbformat_minor": 2
}

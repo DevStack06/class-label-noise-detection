{
 "cells": [
  {
   "cell_type": "code",
   "execution_count": 8,
   "metadata": {},
   "outputs": [],
   "source": [
    "#from __future__ import print_function, division\n",
    "from builtins import range, input\n",
    "import random\n",
    "from sklearn.model_selection import train_test_split\n",
    "import statistics\n",
    "import numpy as np\n",
    "import matplotlib.pyplot as plt\n",
    "from sklearn.tree import DecisionTreeClassifier\n",
    "import pandas as pd\n",
    "from sklearn import datasets\n",
    "import import_ipynb\n",
    "from sklearn import metrics\n",
    "weight_list=[]\n",
    "from sklearn.linear_model import LogisticRegression\n",
    "\n",
    "class AdaBoost:\n",
    "  def __init__(self, M):\n",
    "    self.M = M\n",
    "\n",
    "  def fit(self, X, Y):\n",
    "    self.models = []\n",
    "    self.alphas = []\n",
    "\n",
    "    N, _ = X.shape\n",
    "    W = np.ones(N) / N\n",
    "\n",
    "    for m in range(self.M):\n",
    "      tree =DecisionTreeClassifier(max_depth=1)\n",
    "      tree.fit(X,Y,sample_weight=W)\n",
    "      P = tree.predict(X)\n",
    "\n",
    "      err = W.dot(P != Y)\n",
    "      alpha = 0.5*(np.log(1 - err) - np.log(err))\n",
    "\n",
    "      W = W*np.exp(-alpha*Y*P) # vectorized form\n",
    "      W = W / W.sum() # normalize so it sums to 1\n",
    "      weight_list.append(W)\n",
    "\n",
    "      self.models.append(tree)\n",
    "      self.alphas.append(alpha)\n",
    "\n",
    "  def predict(self, X):\n",
    "    # NOT like SKLearn API\n",
    "    # we want accuracy and exponential loss for plotting purposes\n",
    "    N, _ = X.shape\n",
    "    FX = np.zeros(N)\n",
    "    for alpha, tree in zip(self.alphas, self.models):\n",
    "      FX += alpha*tree.predict(X)\n",
    "    return np.sign(FX), FX\n",
    "\n",
    "  def score(self, X, Y):\n",
    "    # NOT like SKLearn API\n",
    "    # we want accuracy and exponential loss for plotting purposes\n",
    "    P, FX = self.predict(X)\n",
    "    L = np.exp(-Y*FX).mean()\n",
    "    return np.mean(P == Y), L\n",
    "\n",
    "\n",
    "\n",
    "\n",
    "\n",
    "if __name__ == '__main__':\n",
    "    cancer=datasets.load_breast_cancer()\n",
    "    X=cancer.data\n",
    "    Y=cancer.target\n",
    "    Y[Y == 0] = -1\n",
    "    Xtrain, Xtest, Ytrain, Ytest = train_test_split(X, Y, test_size=0.2,random_state=109) # 70% training and 30% test\n",
    "   # make the targets -1,+1\n",
    "    per=(Ytrain.shape[0])*(10/100) #20% data will be mislabeled\n",
    "\n",
    "    k=random.sample(range(Ytrain.shape[0]), int(per)) #list of index no. of mislabeled data\n",
    "    Ytrain=np.array(Ytrain)\n",
    "    for i in k:\n",
    "        if Ytrain[i-1]==1:\n",
    "            Ytrain[i-1]=-1;\n",
    "        else:\n",
    "            Ytrain[i-1]=1\n",
    "#mislabeled data created here till now\n",
    "    itr=10\n",
    "    prev=0\n",
    "    while 1:\n",
    "        model = AdaBoost(itr)\n",
    "        model.fit(Xtrain, Ytrain)\n",
    "        y_pred_ada,cf=model.predict(Xtest)\n",
    "        current=int(metrics.accuracy_score(Ytest,y_pred_ada)*100)\n",
    "        if current<prev:\n",
    "            break\n",
    "        prev=current\n",
    "        itr=itr+1\n"
   ]
  },
  {
   "cell_type": "code",
   "execution_count": 9,
   "metadata": {},
   "outputs": [],
   "source": [
    "weight_list=np.array(weight_list)\n",
    "weight_list=np.transpose(weight_list)"
   ]
  },
  {
   "cell_type": "code",
   "execution_count": 17,
   "metadata": {},
   "outputs": [],
   "source": [
    "a=len(weight_list)\n",
    "nm=weight_list[:,itr-1]"
   ]
  },
  {
   "cell_type": "code",
   "execution_count": 21,
   "metadata": {},
   "outputs": [],
   "source": [
    "Q=[]\n",
    "x=[]\n",
    "for i in range(a):\n",
    "    x=[i,nm[i]]\n",
    "    Q.append(x)\n",
    "    x=[]\n",
    "Q.sort(key = lambda Q: Q[1]) \n"
   ]
  },
  {
   "cell_type": "code",
   "execution_count": 24,
   "metadata": {},
   "outputs": [],
   "source": [
    "mis=[]\n",
    "for i in k:\n",
    "    mis.append(nm[i])"
   ]
  },
  {
   "cell_type": "code",
   "execution_count": 28,
   "metadata": {},
   "outputs": [
    {
     "data": {
      "image/png": "[encoded data removed]",
      "text/plain": [
       "<Figure size 432x288 with 1 Axes>"
      ]
     },
     "metadata": {
      "needs_background": "light"
     },
     "output_type": "display_data"
    }
   ],
   "source": [
    "plt.scatter(range(a),nm)\n",
    "plt.scatter(k,mis)\n",
    "plt.xlabel(\"index points\")\n",
    "plt.ylabel(\"weight of elements\")\n",
    "plt.title(\"points captured by our proposed solution \")\n",
    "plt.show()"
   ]
  },
  {
   "cell_type": "code",
   "execution_count": 30,
   "metadata": {},
   "outputs": [
    {
     "data": {
      "image/png": "[encoded data removed]",
      "text/plain": [
       "<Figure size 432x288 with 1 Axes>"
      ]
     },
     "metadata": {
      "needs_background": "light"
     },
     "output_type": "display_data"
    }
   ],
   "source": [
    "plt.xlabel(\"weight of elements\")\n",
    "plt.ylabel(\"frequency of elements\")\n",
    "plt.title(\" frequency of points captured by our proposed solution (20 mislabelled and 10 iteration)\")\n",
    "\n",
    "plt.hist(nm)\n",
    "plt.show()"
   ]
  },
  {
   "cell_type": "code",
   "execution_count": 33,
   "metadata": {},
   "outputs": [],
   "source": [
    "#finding 4th quartile\n",
    "a=len(nm)\n",
    "a2=(a/100)*75\n",
    "a3=(a/100)*88\n",
    "\n",
    "#3rd quartile\n",
    "m3=[]\n",
    "index3=[]\n",
    "inderdash=[]\n",
    "for i in range(int(a2),a):\n",
    "    m3.append(Q[i])\n",
    "for j in m3:\n",
    "    index3.append(j[0])\n",
    "\n",
    "#4th quartile\n",
    "m4=[]\n",
    "index4=[]\n",
    "inderdash=[]\n",
    "for i in range(int(a3),a):\n",
    "    m4.append(Q[i])\n",
    "for j in m4:\n",
    "    index4.append(j[0])"
   ]
  },
  {
   "cell_type": "code",
   "execution_count": 34,
   "metadata": {},
   "outputs": [],
   "source": [
    "def common_member(a, b): \n",
    "    a_set = set(a) \n",
    "    b_set = set(b) \n",
    "    \n",
    "    if (a_set & b_set): \n",
    "        wq=a_set & b_set \n",
    "    else: \n",
    "        print(\"No common elements\")  \n",
    "    return wq"
   ]
  },
  {
   "cell_type": "code",
   "execution_count": 35,
   "metadata": {},
   "outputs": [
    {
     "name": "stdout",
     "output_type": "stream",
     "text": [
      "6\n",
      "8\n",
      "45\n",
      "3rd quartile 114\n",
      "4th quartile 55\n"
     ]
    }
   ],
   "source": [
    "wq1=common_member(k,index4)\n",
    "wq2=common_member(k,index3)\n",
    "print(len(wq1))\n",
    "print(len(wq2))\n",
    "print(len(k))\n",
    "print(\"3rd quartile\",len(index3))\n",
    "print(\"4th quartile\",len(index4))"
   ]
  }
 ],
 "metadata": {
  "kernelspec": {
   "display_name": "Python 3",
   "language": "python",
   "name": "python3"
  },
  "language_info": {
   "codemirror_mode": {
    "name": "ipython",
    "version": 3
   },
   "file_extension": ".py",
   "mimetype": "text/x-python",
   "name": "python",
   "nbconvert_exporter": "python",
   "pygments_lexer": "ipython3",
   "version": "3.7.1"
  }
 },
 "nbformat": 4,
 "nbformat_minor": 2
}

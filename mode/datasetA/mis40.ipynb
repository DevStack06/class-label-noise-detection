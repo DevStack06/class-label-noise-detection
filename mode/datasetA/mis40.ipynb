{
 "cells": [
  {
   "cell_type": "code",
   "execution_count": 1,
   "metadata": {},
   "outputs": [],
   "source": [
    "\n",
    "from __future__ import print_function, division\n",
    "from builtins import range, input\n",
    "import random\n",
    "# Note: you may need to update your version of future\n",
    "# sudo pip install -U future\n",
    "from sklearn.model_selection import train_test_split\n",
    "import statistics\n",
    "import numpy as np\n",
    "import matplotlib.pyplot as plt\n",
    "from sklearn.tree import DecisionTreeClassifier\n",
    "import pandas as pd\n",
    "from sklearn import datasets\n",
    "weight_list=[]\n",
    "\n",
    "class AdaBoost:\n",
    "  def __init__(self, M):\n",
    "    self.M = M\n",
    "\n",
    "  def fit(self, X, Y):\n",
    "    self.models = []\n",
    "    self.alphas = []\n",
    "\n",
    "    N, _ = X.shape\n",
    "    W = np.ones(N) / N\n",
    "\n",
    "    for m in range(self.M):\n",
    "      tree = DecisionTreeClassifier(max_depth=1)\n",
    "      tree.fit(X, Y, sample_weight=W)\n",
    "      P = tree.predict(X)\n",
    "\n",
    "      err = W.dot(P != Y)\n",
    "      alpha = 0.5*(np.log(1 - err) - np.log(err))\n",
    "\n",
    "      W = W*np.exp(-alpha*Y*P) # vectorized form\n",
    "      W = W / W.sum() # normalize so it sums to 1\n",
    "      weight_list.append(W)\n",
    "\n",
    "      self.models.append(tree)\n",
    "      self.alphas.append(alpha)\n",
    "\n",
    "  def predict(self, X):\n",
    "    # NOT like SKLearn API\n",
    "    # we want accuracy and exponential loss for plotting purposes\n",
    "    N, _ = X.shape\n",
    "    FX = np.zeros(N)\n",
    "    for alpha, tree in zip(self.alphas, self.models):\n",
    "      FX += alpha*tree.predict(X)\n",
    "    return np.sign(FX), FX\n",
    "\n",
    "  def score(self, X, Y):\n",
    "    # NOT like SKLearn API\n",
    "    # we want accuracy and exponential loss for plotting purposes\n",
    "    P, FX = self.predict(X)\n",
    "    L = np.exp(-Y*FX).mean()\n",
    "    return np.mean(P == Y), L\n",
    "\n",
    "\n",
    "if __name__ == '__main__':\n",
    "    \n",
    "    \n",
    "    cancer = datasets.load_breast_cancer()\n",
    "    Y=cancer.target\n",
    "    Y[Y == 0] = -1\n",
    "    Xtrain, Xtest, Ytrain, Ytest = train_test_split(cancer.data, Y, test_size=0.2,random_state=109) # 70% training and 30% test\n",
    "   # make the targets -1,+1\n",
    "    per=(Ytrain.shape[0])*(40/100) #20% data will be mislabeled\n",
    "\n",
    "    k=random.sample(range(Ytrain.shape[0]), int(per)) #list of index no. of mislabeled data\n",
    "    for i in k:\n",
    "        if Ytrain[i-1]==1:\n",
    "            Ytrain[i-1]=-1;\n",
    "        else:\n",
    "            Ytrain[i-1]=1\n",
    "#mislabeled data created here till now\n",
    "    model = AdaBoost(10)\n",
    "    model.fit(Xtrain, Ytrain)"
   ]
  },
  {
   "cell_type": "code",
   "execution_count": 2,
   "metadata": {},
   "outputs": [],
   "source": [
    "weight_list=np.array(weight_list)\n"
   ]
  },
  {
   "cell_type": "code",
   "execution_count": 3,
   "metadata": {},
   "outputs": [],
   "source": [
    "#observing the wieght of instances\n",
    "#print(wieght_list)\n",
    "a=len(weight_list)\n",
    "\n",
    "#sorting data and finding mean\n",
    "nm=[] \n",
    "nm=np.mean(weight_list, axis=0)\n",
    "#print(nm)\n",
    "a=len(nm)\n",
    "Q=[]\n",
    "x=[]\n",
    "#print(a)\n",
    "for i in range(a):\n",
    "    x=[i,nm[i]]\n",
    "    Q.append(x)\n",
    "    x=[]\n",
    "#print(Q)\n",
    "Q.sort(key = lambda Q: Q[1]) "
   ]
  },
  {
   "cell_type": "code",
   "execution_count": 4,
   "metadata": {},
   "outputs": [
    {
     "name": "stdout",
     "output_type": "stream",
     "text": [
      "ModeResult(mode=array([0.00174051]), count=array([114]))\n"
     ]
    }
   ],
   "source": [
    "from scipy import stats\n",
    "yp=np.array(nm)\n",
    "mode=stats.mode(nm)\n",
    "print(mode)"
   ]
  },
  {
   "cell_type": "code",
   "execution_count": 6,
   "metadata": {},
   "outputs": [],
   "source": [
    "from collections import Counter\n",
    "count=Counter(nm)\n",
    "count1=Counter(nm)\n",
    "# print(type(count))\n",
    "nm2=nm\n",
    "\n"
   ]
  },
  {
   "cell_type": "code",
   "execution_count": 7,
   "metadata": {},
   "outputs": [
    {
     "name": "stdout",
     "output_type": "stream",
     "text": [
      "Counter({0.0017405076631426177: 114, 0.001909131424760252: 96, 0.0029985228027307907: 63, 0.002733678702562982: 59, 0.0024079687657795707: 43, 0.00217412633693691: 35, 0.0016927036880518022: 14, 0.0016547513187170897: 7, 0.0016921871945269073: 3, 0.0020645430515224905: 3, 0.002658596752985317: 2, 0.0021130402834045113: 2, 0.002193402072433937: 2, 0.0021413187726365976: 2, 0.0018049413281136274: 1, 0.002479384844207926: 1, 0.00308978145604698: 1, 0.0020108203532915358: 1, 0.0025989879469115874: 1, 0.0017924887299728218: 1, 0.0019672349558284732: 1, 0.002616338573795083: 1, 0.0028153212821042063: 1, 0.0025351340451023156: 1})\n",
      "0.0\n"
     ]
    }
   ],
   "source": [
    "print(count1)\n",
    "modeg=statistics.mode(nm)\n",
    "jk=float(count1[0])\n",
    "print(jk)\n",
    "ne=[]\n",
    "for j in range(Xtrain.shape[0]):\n",
    "    if nm2[j]==modeg:\n",
    "        ne.append(j)\n",
    "\n"
   ]
  },
  {
   "cell_type": "code",
   "execution_count": 8,
   "metadata": {},
   "outputs": [
    {
     "name": "stdout",
     "output_type": "stream",
     "text": [
      "[2, 11, 15, 19, 20, 22, 24, 36, 45, 50, 54, 56, 60, 63, 68, 69, 71, 74, 78, 87, 88, 89, 90, 94, 96, 104, 106, 116, 118, 120, 125, 126, 129, 132, 134, 136, 137, 142, 143, 146, 147, 151, 158, 173, 174, 177, 186, 188, 190, 192, 199, 206, 211, 214, 221, 227, 229, 230, 234, 239, 240, 242, 244, 254, 257, 264, 267, 268, 270, 273, 281, 284, 289, 291, 295, 296, 299, 303, 306, 313, 315, 318, 320, 323, 329, 334, 339, 347, 348, 354, 357, 359, 361, 374, 380, 383, 385, 386, 398, 402, 403, 406, 407, 412, 414, 417, 418, 419, 423, 429, 430, 436, 439, 453]\n"
     ]
    }
   ],
   "source": [
    "print(ne)"
   ]
  },
  {
   "cell_type": "code",
   "execution_count": 9,
   "metadata": {},
   "outputs": [],
   "source": [
    "def common_member(a, b): \n",
    "    a_set = set(a) \n",
    "    b_set = set(b) \n",
    "    \n",
    "    if (a_set & b_set): \n",
    "        wq=a_set & b_set \n",
    "    else: \n",
    "        print(\"No common elements\")  \n",
    "    return wq"
   ]
  },
  {
   "cell_type": "code",
   "execution_count": 10,
   "metadata": {},
   "outputs": [
    {
     "name": "stdout",
     "output_type": "stream",
     "text": [
      "114\n",
      "182\n",
      "39\n"
     ]
    }
   ],
   "source": [
    "a=set(ne)\n",
    "b=set(k)\n",
    "re=a&b\n",
    "print(len(ne))\n",
    "print(len(k))\n",
    "print(len(re))"
   ]
  },
  {
   "cell_type": "code",
   "execution_count": 11,
   "metadata": {},
   "outputs": [],
   "source": [
    "for i in ne:\n",
    "    if(Ytrain[i]==1):\n",
    "        Ytrain[i]=-1\n",
    "    else:\n",
    "        Ytrain[i]=-1"
   ]
  },
  {
   "cell_type": "code",
   "execution_count": 12,
   "metadata": {},
   "outputs": [],
   "source": [
    "from sklearn.naive_bayes import GaussianNB\n",
    "from sklearn.svm import SVC\n",
    "from sklearn.neighbors import KNeighborsClassifier\n",
    "from sklearn.metrics import accuracy_score"
   ]
  },
  {
   "cell_type": "code",
   "execution_count": 13,
   "metadata": {},
   "outputs": [],
   "source": [
    "\n",
    "clf = SVC(kernel='linear') \n",
    "\n",
    "clf1 = KNeighborsClassifier() \n",
    "\n",
    "clf2 = DecisionTreeClassifier() \n",
    "\n",
    "clf3 = GaussianNB() \n",
    "\n",
    "\n",
    "# cancer=datasets.load_breast_cancer()"
   ]
  },
  {
   "cell_type": "code",
   "execution_count": 14,
   "metadata": {},
   "outputs": [
    {
     "name": "stdout",
     "output_type": "stream",
     "text": [
      "0.3508771929824561\n",
      "0.3508771929824561\n",
      "0.34210526315789475\n",
      "0.15789473684210525\n"
     ]
    }
   ],
   "source": [
    "clf.fit(Xtrain, Ytrain)\n",
    "y_pred_mis = clf.predict(Xtest)\n",
    "clf1.fit(Xtrain, Ytrain)\n",
    "y_pred_mis1 = clf1.predict(Xtest)\n",
    "clf2.fit(Xtrain, Ytrain)\n",
    "y_pred_mis2 = clf2.predict(Xtest)\n",
    "clf3.fit(Xtrain, Ytrain)\n",
    "y_pred_mis3 = clf3.predict(Xtest)\n",
    "\n",
    "\n",
    "print(accuracy_score(Ytest, y_pred_mis))\n",
    "print(accuracy_score(Ytest, y_pred_mis1))\n",
    "print(accuracy_score(Ytest, y_pred_mis2))\n",
    "print(accuracy_score(Ytest, y_pred_mis3))"
   ]
  },
  {
   "cell_type": "code",
   "execution_count": 18,
   "metadata": {},
   "outputs": [],
   "source": [
    "for i in ne:\n",
    "    if(Ytrain[i]==1):\n",
    "        Ytrain[i]=-1\n",
    "    else:\n",
    "        Ytrain[i]=-1"
   ]
  },
  {
   "cell_type": "code",
   "execution_count": 21,
   "metadata": {},
   "outputs": [],
   "source": [
    "clf.fit(Xtrain, Ytrain)\n",
    "y_pred_mis = clf.predict(Xtest)\n",
    "clf1.fit(Xtrain, Ytrain)\n",
    "y_pred_mis1 = clf1.predict(Xtest)\n",
    "clf2.fit(Xtrain, Ytrain)\n",
    "y_pred_mis2 = clf2.predict(Xtest)\n",
    "clf3.fit(Xtrain, Ytrain)\n",
    "y_pred_mis3 = clf3.predict(Xtest)"
   ]
  },
  {
   "cell_type": "code",
   "execution_count": 22,
   "metadata": {},
   "outputs": [
    {
     "name": "stdout",
     "output_type": "stream",
     "text": [
      "0.9736842105263158\n",
      "0.9473684210526315\n",
      "0.8421052631578947\n",
      "0.9473684210526315\n"
     ]
    }
   ],
   "source": [
    "print(accuracy_score(Ytest, y_pred_mis))\n",
    "print(accuracy_score(Ytest, y_pred_mis1))\n",
    "print(accuracy_score(Ytest, y_pred_mis2))\n",
    "print(accuracy_score(Ytest, y_pred_mis3))"
   ]
  }
 ],
 "metadata": {
  "kernelspec": {
   "display_name": "Python 3",
   "language": "python",
   "name": "python3"
  },
  "language_info": {
   "codemirror_mode": {
    "name": "ipython",
    "version": 3
   },
   "file_extension": ".py",
   "mimetype": "text/x-python",
   "name": "python",
   "nbconvert_exporter": "python",
   "pygments_lexer": "ipython3",
   "version": "3.7.1"
  }
 },
 "nbformat": 4,
 "nbformat_minor": 2
}

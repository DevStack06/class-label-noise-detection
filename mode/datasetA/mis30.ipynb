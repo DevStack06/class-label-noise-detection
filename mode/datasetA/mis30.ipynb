{
 "cells": [
  {
   "cell_type": "code",
   "execution_count": 1,
   "metadata": {},
   "outputs": [],
   "source": [
    "\n",
    "from __future__ import print_function, division\n",
    "from builtins import range, input\n",
    "import random\n",
    "# Note: you may need to update your version of future\n",
    "# sudo pip install -U future\n",
    "from sklearn.model_selection import train_test_split\n",
    "import statistics\n",
    "import numpy as np\n",
    "import matplotlib.pyplot as plt\n",
    "from sklearn.tree import DecisionTreeClassifier\n",
    "import pandas as pd\n",
    "from sklearn import datasets\n",
    "weight_list=[]\n",
    "\n",
    "class AdaBoost:\n",
    "  def __init__(self, M):\n",
    "    self.M = M\n",
    "\n",
    "  def fit(self, X, Y):\n",
    "    self.models = []\n",
    "    self.alphas = []\n",
    "\n",
    "    N, _ = X.shape\n",
    "    W = np.ones(N) / N\n",
    "\n",
    "    for m in range(self.M):\n",
    "      tree = DecisionTreeClassifier(max_depth=1)\n",
    "      tree.fit(X, Y, sample_weight=W)\n",
    "      P = tree.predict(X)\n",
    "\n",
    "      err = W.dot(P != Y)\n",
    "      alpha = 0.5*(np.log(1 - err) - np.log(err))\n",
    "\n",
    "      W = W*np.exp(-alpha*Y*P) # vectorized form\n",
    "      W = W / W.sum() # normalize so it sums to 1\n",
    "      weight_list.append(W)\n",
    "\n",
    "      self.models.append(tree)\n",
    "      self.alphas.append(alpha)\n",
    "\n",
    "  def predict(self, X):\n",
    "    # NOT like SKLearn API\n",
    "    # we want accuracy and exponential loss for plotting purposes\n",
    "    N, _ = X.shape\n",
    "    FX = np.zeros(N)\n",
    "    for alpha, tree in zip(self.alphas, self.models):\n",
    "      FX += alpha*tree.predict(X)\n",
    "    return np.sign(FX), FX\n",
    "\n",
    "  def score(self, X, Y):\n",
    "    # NOT like SKLearn API\n",
    "    # we want accuracy and exponential loss for plotting purposes\n",
    "    P, FX = self.predict(X)\n",
    "    L = np.exp(-Y*FX).mean()\n",
    "    return np.mean(P == Y), L\n",
    "\n",
    "\n",
    "if __name__ == '__main__':\n",
    "    \n",
    "    \n",
    "    cancer = datasets.load_breast_cancer()\n",
    "    Y=cancer.target\n",
    "    Y[Y == 0] = -1\n",
    "    Xtrain, Xtest, Ytrain, Ytest = train_test_split(cancer.data, Y, test_size=0.2,random_state=109) # 70% training and 30% test\n",
    "   # make the targets -1,+1\n",
    "    per=(Ytrain.shape[0])*(30/100) #20% data will be mislabeled\n",
    "\n",
    "    k=random.sample(range(Ytrain.shape[0]), int(per)) #list of index no. of mislabeled data\n",
    "    for i in k:\n",
    "        if Ytrain[i-1]==1:\n",
    "            Ytrain[i-1]=-1;\n",
    "        else:\n",
    "            Ytrain[i-1]=1\n",
    "#mislabeled data created here till now\n",
    "    model = AdaBoost(10)\n",
    "    model.fit(Xtrain, Ytrain)"
   ]
  },
  {
   "cell_type": "code",
   "execution_count": 2,
   "metadata": {},
   "outputs": [],
   "source": [
    "weight_list=np.array(weight_list)\n"
   ]
  },
  {
   "cell_type": "code",
   "execution_count": 4,
   "metadata": {},
   "outputs": [],
   "source": [
    "#observing the wieght of instances\n",
    "#print(wieght_list)\n",
    "a=len(weight_list)\n",
    "\n",
    "#sorting data and finding mean\n",
    "nm=[] \n",
    "nm=np.mean(weight_list, axis=0)\n",
    "#print(nm)\n",
    "a=len(nm)\n",
    "Q=[]\n",
    "x=[]\n",
    "#print(a)\n",
    "for i in range(a):\n",
    "    x=[i,nm[i]]\n",
    "    Q.append(x)\n",
    "    x=[]\n",
    "#print(Q)\n",
    "Q.sort(key = lambda Q: Q[1]) "
   ]
  },
  {
   "cell_type": "code",
   "execution_count": 5,
   "metadata": {},
   "outputs": [
    {
     "name": "stdout",
     "output_type": "stream",
     "text": [
      "ModeResult(mode=array([0.00162814]), count=array([60]))\n"
     ]
    }
   ],
   "source": [
    "from scipy import stats\n",
    "yp=np.array(nm)\n",
    "mode=stats.mode(nm)\n",
    "print(mode)"
   ]
  },
  {
   "cell_type": "code",
   "execution_count": 6,
   "metadata": {},
   "outputs": [],
   "source": [
    "from collections import Counter\n",
    "count=Counter(nm)\n",
    "count1=Counter(nm)\n",
    "# print(type(count))\n",
    "nm2=nm\n",
    "\n"
   ]
  },
  {
   "cell_type": "code",
   "execution_count": 7,
   "metadata": {},
   "outputs": [
    {
     "name": "stdout",
     "output_type": "stream",
     "text": [
      "Counter({0.001628144682469221: 60, 0.001378609607896921: 55, 0.0014101529720061306: 40, 0.002169468104606105: 33, 0.003850432812578888: 31, 0.0028885153689268833: 29, 0.004545552219174699: 21, 0.0010966708028976257: 19, 0.0011805521734870603: 18, 0.001895206214254389: 14, 0.001837706569639923: 14, 0.0010650687381874421: 12, 0.0024735378873062225: 12, 0.0044414894040045155: 11, 0.0034113507632688458: 8, 0.002231572594297499: 8, 0.0012521029245196912: 6, 0.0028327557262412617: 5, 0.0029230560580821323: 4, 0.0016838394662451058: 4, 0.0033583051642940938: 4, 0.0011074311905831555: 4, 0.001549221884816002: 3, 0.002574174734725908: 3, 0.0012663609546697987: 2, 0.005393508967997142: 2, 0.0026234537466126875: 2, 0.0009331234846966846: 2, 0.002187675573517623: 2, 0.0012341161501664274: 1, 0.00221549144180443: 1, 0.0016659010121022708: 1, 0.005044543158972151: 1, 0.0014838851769789763: 1, 0.00249795456994848: 1, 0.0038177379094405163: 1, 0.004389440745637333: 1, 0.004987747293090995: 1, 0.001875451461405935: 1, 0.0014703472114238577: 1, 0.001717393394088835: 1, 0.0018202692064844337: 1, 0.0019554360875966813: 1, 0.00253571721746738: 1, 0.003733939545507817: 1, 0.003199264906180578: 1, 0.0011086749289011604: 1, 0.0051214224501630445: 1, 0.0035280445959421265: 1, 0.003490459263452377: 1, 0.0013505907540114635: 1, 0.0032459887110430526: 1, 0.004378314006382072: 1, 0.0022044353775600117: 1, 0.00180365307386421: 1, 0.002070172972556197: 1})\n",
      "0.0\n"
     ]
    }
   ],
   "source": [
    "print(count1)\n",
    "modeg=statistics.mode(nm)\n",
    "jk=float(count1[0])\n",
    "print(jk)\n",
    "ne=[]\n",
    "for j in range(Xtrain.shape[0]):\n",
    "    if nm2[j]==modeg:\n",
    "        ne.append(j)\n",
    "\n"
   ]
  },
  {
   "cell_type": "code",
   "execution_count": 8,
   "metadata": {},
   "outputs": [
    {
     "name": "stdout",
     "output_type": "stream",
     "text": [
      "[3, 8, 13, 19, 26, 29, 32, 36, 39, 47, 62, 63, 76, 78, 88, 100, 116, 125, 126, 131, 136, 140, 142, 146, 153, 174, 198, 207, 216, 229, 230, 237, 242, 259, 273, 274, 282, 283, 293, 296, 318, 344, 350, 357, 364, 368, 369, 383, 386, 387, 393, 396, 403, 418, 423, 424, 431, 449, 451, 453]\n"
     ]
    }
   ],
   "source": [
    "print(ne)"
   ]
  },
  {
   "cell_type": "code",
   "execution_count": 9,
   "metadata": {},
   "outputs": [],
   "source": [
    "def common_member(a, b): \n",
    "    a_set = set(a) \n",
    "    b_set = set(b) \n",
    "    \n",
    "    if (a_set & b_set): \n",
    "        wq=a_set & b_set \n",
    "    else: \n",
    "        print(\"No common elements\")  \n",
    "    return wq"
   ]
  },
  {
   "cell_type": "code",
   "execution_count": 10,
   "metadata": {},
   "outputs": [
    {
     "name": "stdout",
     "output_type": "stream",
     "text": [
      "60\n",
      "136\n",
      "12\n"
     ]
    }
   ],
   "source": [
    "a=set(ne)\n",
    "b=set(k)\n",
    "re=a&b\n",
    "print(len(ne))\n",
    "print(len(k))\n",
    "print(len(re))"
   ]
  },
  {
   "cell_type": "code",
   "execution_count": 11,
   "metadata": {},
   "outputs": [],
   "source": [
    "from sklearn.naive_bayes import GaussianNB\n",
    "from sklearn.svm import SVC\n",
    "from sklearn.neighbors import KNeighborsClassifier\n",
    "from sklearn.metrics import accuracy_score"
   ]
  },
  {
   "cell_type": "code",
   "execution_count": 12,
   "metadata": {},
   "outputs": [],
   "source": [
    "\n",
    "clf = SVC(kernel='linear') \n",
    "\n",
    "clf1 = KNeighborsClassifier() \n",
    "\n",
    "clf2 = DecisionTreeClassifier() \n",
    "\n",
    "clf3 = GaussianNB() \n",
    "\n",
    "\n",
    "# cancer=datasets.load_breast_cancer()"
   ]
  },
  {
   "cell_type": "code",
   "execution_count": 13,
   "metadata": {},
   "outputs": [
    {
     "name": "stdout",
     "output_type": "stream",
     "text": [
      "0.9385964912280702\n",
      "0.7894736842105263\n",
      "0.6228070175438597\n",
      "0.9473684210526315\n"
     ]
    }
   ],
   "source": [
    "clf.fit(Xtrain, Ytrain)\n",
    "y_pred_mis = clf.predict(Xtest)\n",
    "clf1.fit(Xtrain, Ytrain)\n",
    "y_pred_mis1 = clf1.predict(Xtest)\n",
    "clf2.fit(Xtrain, Ytrain)\n",
    "y_pred_mis2 = clf2.predict(Xtest)\n",
    "clf3.fit(Xtrain, Ytrain)\n",
    "y_pred_mis3 = clf3.predict(Xtest)\n",
    "\n",
    "\n",
    "print(accuracy_score(Ytest, y_pred_mis))\n",
    "print(accuracy_score(Ytest, y_pred_mis1))\n",
    "print(accuracy_score(Ytest, y_pred_mis2))\n",
    "print(accuracy_score(Ytest, y_pred_mis3))"
   ]
  },
  {
   "cell_type": "code",
   "execution_count": 14,
   "metadata": {},
   "outputs": [],
   "source": [
    "for i in ne:\n",
    "    if(Ytrain[i]==1):\n",
    "        Ytrain[i]=-1\n",
    "    else:\n",
    "        Ytrain[i]=-1"
   ]
  },
  {
   "cell_type": "code",
   "execution_count": 15,
   "metadata": {},
   "outputs": [],
   "source": [
    "clf.fit(Xtrain, Ytrain)\n",
    "y_pred_mis = clf.predict(Xtest)\n",
    "clf1.fit(Xtrain, Ytrain)\n",
    "y_pred_mis1 = clf1.predict(Xtest)\n",
    "clf2.fit(Xtrain, Ytrain)\n",
    "y_pred_mis2 = clf2.predict(Xtest)\n",
    "clf3.fit(Xtrain, Ytrain)\n",
    "y_pred_mis3 = clf3.predict(Xtest)"
   ]
  },
  {
   "cell_type": "code",
   "execution_count": 22,
   "metadata": {},
   "outputs": [
    {
     "name": "stdout",
     "output_type": "stream",
     "text": [
      "0.9736842105263158\n",
      "0.9473684210526315\n",
      "0.8421052631578947\n",
      "0.9473684210526315\n"
     ]
    }
   ],
   "source": [
    "print(accuracy_score(Ytest, y_pred_mis))\n",
    "print(accuracy_score(Ytest, y_pred_mis1))\n",
    "print(accuracy_score(Ytest, y_pred_mis2))\n",
    "print(accuracy_score(Ytest, y_pred_mis3))"
   ]
  }
 ],
 "metadata": {
  "kernelspec": {
   "display_name": "Python 3",
   "language": "python",
   "name": "python3"
  },
  "language_info": {
   "codemirror_mode": {
    "name": "ipython",
    "version": 3
   },
   "file_extension": ".py",
   "mimetype": "text/x-python",
   "name": "python",
   "nbconvert_exporter": "python",
   "pygments_lexer": "ipython3",
   "version": "3.7.1"
  }
 },
 "nbformat": 4,
 "nbformat_minor": 2
}

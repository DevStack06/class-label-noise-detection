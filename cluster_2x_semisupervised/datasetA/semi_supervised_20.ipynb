{
 "cells": [
  {
   "cell_type": "code",
   "execution_count": 1,
   "metadata": {},
   "outputs": [],
   "source": [
    "from sklearn.cluster import KMeans\n",
    "from sklearn.svm import SVC\n",
    "import pandas as pd\n",
    "df=pd.read_csv('breast.csv')\n",
    "X=df.iloc[:,:-1]\n",
    "Y=df.iloc[:,-1]"
   ]
  },
  {
   "cell_type": "code",
   "execution_count": 2,
   "metadata": {},
   "outputs": [],
   "source": [
    "#  print(Y)"
   ]
  },
  {
   "cell_type": "code",
   "execution_count": 2,
   "metadata": {},
   "outputs": [],
   "source": [
    "kmeanModel = KMeans(n_clusters=2).fit(X)\n",
    "cluster1=kmeanModel.labels_"
   ]
  },
  {
   "cell_type": "code",
   "execution_count": 3,
   "metadata": {},
   "outputs": [],
   "source": [
    "import random\n",
    "import numpy as np\n",
    "from sklearn.metrics import accuracy_score\n",
    "\n",
    "per=(Y.shape[0])*(20/100) #20% data will be mislabeled\n",
    "\n",
    "k=random.sample(range(Y.shape[0]), int(per)) #list of index no. of mislabeled data\n",
    "Y=np.array(Y)\n",
    "for i in k:\n",
    "    if Y[i-1]==0:\n",
    "        Y[i-1]=1;\n",
    "    else:\n",
    "        Y[i-1]=0"
   ]
  },
  {
   "cell_type": "markdown",
   "metadata": {},
   "source": [
    "## accuracy with mislabeling"
   ]
  },
  {
   "cell_type": "code",
   "execution_count": 4,
   "metadata": {},
   "outputs": [
    {
     "name": "stdout",
     "output_type": "stream",
     "text": [
      "0.8435828877005348\n"
     ]
    },
    {
     "name": "stderr",
     "output_type": "stream",
     "text": [
      "/home/balram/anaconda3/lib/python3.7/site-packages/sklearn/svm/base.py:196: FutureWarning: The default value of gamma will change from 'auto' to 'scale' in version 0.22 to account better for unscaled features. Set gamma explicitly to 'auto' or 'scale' to avoid this warning.\n",
      "  \"avoid this warning.\", FutureWarning)\n"
     ]
    }
   ],
   "source": [
    "model=SVC().fit(X,Y)\n",
    "y_pred=model.predict(X)\n",
    "\n",
    "print(accuracy_score(Y,y_pred))"
   ]
  },
  {
   "cell_type": "code",
   "execution_count": 5,
   "metadata": {},
   "outputs": [],
   "source": [
    "ind1=[]\n",
    "for i in range(len(Y)):\n",
    "    if Y[i]!=cluster1[i]:\n",
    "        ind1.append(i)\n",
    "    "
   ]
  },
  {
   "cell_type": "markdown",
   "metadata": {},
   "source": [
    "## cilprit 1"
   ]
  },
  {
   "cell_type": "code",
   "execution_count": 6,
   "metadata": {},
   "outputs": [
    {
     "name": "stdout",
     "output_type": "stream",
     "text": [
      "276\n",
      "53\n",
      "149\n"
     ]
    }
   ],
   "source": [
    "a=set(k)\n",
    "b=set(ind1)\n",
    "re=a&b\n",
    "print(len(ind1))\n",
    "print(len(re))\n",
    "print(len(k))"
   ]
  },
  {
   "cell_type": "code",
   "execution_count": 7,
   "metadata": {},
   "outputs": [],
   "source": [
    "\n",
    "X['c']=cluster1\n"
   ]
  },
  {
   "cell_type": "markdown",
   "metadata": {},
   "source": [
    "## accuracy after first cluster added as feature"
   ]
  },
  {
   "cell_type": "code",
   "execution_count": 8,
   "metadata": {},
   "outputs": [
    {
     "name": "stdout",
     "output_type": "stream",
     "text": [
      "0.839572192513369\n"
     ]
    },
    {
     "name": "stderr",
     "output_type": "stream",
     "text": [
      "/home/balram/anaconda3/lib/python3.7/site-packages/sklearn/svm/base.py:196: FutureWarning: The default value of gamma will change from 'auto' to 'scale' in version 0.22 to account better for unscaled features. Set gamma explicitly to 'auto' or 'scale' to avoid this warning.\n",
      "  \"avoid this warning.\", FutureWarning)\n"
     ]
    }
   ],
   "source": [
    "model=SVC().fit(X,Y)\n",
    "y_pred=model.predict(X)\n",
    "\n",
    "print(accuracy_score(Y,y_pred))"
   ]
  },
  {
   "cell_type": "code",
   "execution_count": 9,
   "metadata": {},
   "outputs": [],
   "source": [
    "\n",
    "kmeanModel = KMeans(n_clusters=2).fit(X)\n",
    "cluster2=kmeanModel.labels_"
   ]
  },
  {
   "cell_type": "markdown",
   "metadata": {},
   "source": [
    "## cilprit 2"
   ]
  },
  {
   "cell_type": "code",
   "execution_count": 10,
   "metadata": {},
   "outputs": [],
   "source": [
    "ind2=[]\n",
    "for i in range(len(Y)):\n",
    "    if Y[i]!=cluster2[i]:\n",
    "        ind2.append(i)"
   ]
  },
  {
   "cell_type": "code",
   "execution_count": 11,
   "metadata": {},
   "outputs": [
    {
     "name": "stdout",
     "output_type": "stream",
     "text": [
      "472\n",
      "96\n",
      "149\n"
     ]
    }
   ],
   "source": [
    "a=set(k)\n",
    "b=set(ind2)\n",
    "re=a&b\n",
    "print(len(ind2))\n",
    "print(len(re))\n",
    "print(len(k))"
   ]
  },
  {
   "cell_type": "code",
   "execution_count": 12,
   "metadata": {},
   "outputs": [
    {
     "name": "stderr",
     "output_type": "stream",
     "text": [
      "/home/balram/anaconda3/lib/python3.7/site-packages/sklearn/semi_supervised/label_propagation.py:281: RuntimeWarning: invalid value encountered in true_divide\n",
      "  self.label_distributions_ /= normalizer\n",
      "/home/balram/anaconda3/lib/python3.7/site-packages/sklearn/semi_supervised/label_propagation.py:292: ConvergenceWarning: max_iter=1000 was reached without convergence.\n",
      "  category=ConvergenceWarning\n"
     ]
    }
   ],
   "source": [
    "from sklearn.semi_supervised import LabelPropagation\n",
    "label_prop_model = LabelPropagation(n_neighbors=5)\n",
    "Y=np.array(Y)\n",
    "u=np.copy(Y)\n",
    "u[ind1] = -1\n",
    "gh=label_prop_model.fit(X, u)"
   ]
  },
  {
   "cell_type": "code",
   "execution_count": 13,
   "metadata": {},
   "outputs": [],
   "source": [
    "X=np.array(X)\n",
    "\n",
    "x_new=[]\n",
    "y_new=[]\n",
    "x_new_test=[]\n",
    "y_new_test=[]\n",
    "for i in range(len(X)):\n",
    "    if i not in ind1:\n",
    "        x_new.append(X[i][:])\n",
    "        y_new.append(Y[i])\n",
    "    else:\n",
    "        x_new_test.append(X[i][:])\n",
    "        y_new_test.append(Y[i])\n",
    "    "
   ]
  },
  {
   "cell_type": "code",
   "execution_count": 14,
   "metadata": {},
   "outputs": [
    {
     "name": "stderr",
     "output_type": "stream",
     "text": [
      "/home/balram/anaconda3/lib/python3.7/site-packages/sklearn/svm/base.py:196: FutureWarning: The default value of gamma will change from 'auto' to 'scale' in version 0.22 to account better for unscaled features. Set gamma explicitly to 'auto' or 'scale' to avoid this warning.\n",
      "  \"avoid this warning.\", FutureWarning)\n"
     ]
    }
   ],
   "source": [
    "\n",
    "model=SVC().fit(x_new,y_new)\n",
    "y_pred=model.predict(x_new_test)"
   ]
  },
  {
   "cell_type": "code",
   "execution_count": 15,
   "metadata": {},
   "outputs": [
    {
     "name": "stderr",
     "output_type": "stream",
     "text": [
      "/home/balram/anaconda3/lib/python3.7/site-packages/sklearn/svm/base.py:196: FutureWarning: The default value of gamma will change from 'auto' to 'scale' in version 0.22 to account better for unscaled features. Set gamma explicitly to 'auto' or 'scale' to avoid this warning.\n",
      "  \"avoid this warning.\", FutureWarning)\n"
     ]
    }
   ],
   "source": [
    "from sklearn.linear_model import LogisticRegression\n",
    "from sklearn.metrics import accuracy_score\n",
    "from sklearn.naive_bayes import GaussianNB\n",
    "from sklearn.ensemble import  VotingClassifier\n",
    "clf1=LogisticRegression(solver='lbfgs', multi_class='multinomial',random_state=1)\n",
    "clf2=SVC()\n",
    "clf3=GaussianNB()\n",
    "\n",
    "model1=VotingClassifier(estimators=[('lr', clf1), ('rf', clf2), ('gnb', clf3)], voting='hard').fit(X,Y)\n",
    "Ypred1=model1.predict(X)"
   ]
  },
  {
   "cell_type": "code",
   "execution_count": 16,
   "metadata": {},
   "outputs": [],
   "source": [
    "Yz=df.iloc[:,-1]\n",
    "xg=[]\n",
    "for i in ind1:\n",
    "    if Yz[i]!=Ypred1[i]:\n",
    "        xg.append(i)"
   ]
  },
  {
   "cell_type": "code",
   "execution_count": 17,
   "metadata": {},
   "outputs": [
    {
     "name": "stdout",
     "output_type": "stream",
     "text": [
      "116\n"
     ]
    }
   ],
   "source": [
    "\n",
    "print(len(xg))"
   ]
  },
  {
   "cell_type": "markdown",
   "metadata": {},
   "source": [
    "## accuracy after semi-supervised concept"
   ]
  },
  {
   "cell_type": "code",
   "execution_count": 18,
   "metadata": {},
   "outputs": [
    {
     "name": "stdout",
     "output_type": "stream",
     "text": [
      "0.7112299465240641\n"
     ]
    }
   ],
   "source": [
    "print(accuracy_score(Y,Ypred1))"
   ]
  }
 ],
 "metadata": {
  "kernelspec": {
   "display_name": "Python 3",
   "language": "python",
   "name": "python3"
  },
  "language_info": {
   "codemirror_mode": {
    "name": "ipython",
    "version": 3
   },
   "file_extension": ".py",
   "mimetype": "text/x-python",
   "name": "python",
   "nbconvert_exporter": "python",
   "pygments_lexer": "ipython3",
   "version": "3.7.1"
  }
 },
 "nbformat": 4,
 "nbformat_minor": 2
}

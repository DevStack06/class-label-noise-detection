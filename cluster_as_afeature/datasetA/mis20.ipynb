{
 "cells": [
  {
   "cell_type": "code",
   "execution_count": 1,
   "metadata": {},
   "outputs": [],
   "source": [
    "import numpy as np\n",
    "import matplotlib.pyplot as plt \n",
    "from sklearn import datasets\n",
    "from sklearn.cluster import KMeans\n",
    "\n",
    "from sklearn.svm import SVC\n",
    "\n",
    "from sklearn.ensemble import VotingClassifier"
   ]
  },
  {
   "cell_type": "code",
   "execution_count": 2,
   "metadata": {},
   "outputs": [],
   "source": [
    "import pandas as pd\n",
    "df=pd.read_csv('breast.csv')\n",
    "X=df.iloc[:,:-1]\n",
    "Y=df.iloc[:,-1]\n",
    "\n",
    "#from sklearn.linear_model import LogisticRegression\n"
   ]
  },
  {
   "cell_type": "code",
   "execution_count": 3,
   "metadata": {},
   "outputs": [],
   "source": [
    "kmeanModel = KMeans(n_clusters=4).fit(X)\n",
    "cluster1=kmeanModel.labels_\n",
    "    "
   ]
  },
  {
   "cell_type": "code",
   "execution_count": 4,
   "metadata": {},
   "outputs": [],
   "source": [
    "\n",
    "import random\n",
    "\n",
    "\n",
    "per=(Y.shape[0])*(20/100) #20% data will be mislabeled\n",
    "\n",
    "k=random.sample(range(Y.shape[0]), int(per)) #list of index no. of mislabeled data\n",
    "Y=np.array(Y)\n",
    "for i in k:\n",
    "    if Y[i-1]==0:\n",
    "        Y[i-1]=1;\n",
    "    else:\n",
    "        Y[i-1]=0"
   ]
  },
  {
   "cell_type": "code",
   "execution_count": 5,
   "metadata": {},
   "outputs": [],
   "source": [
    "# from sklearn.model_selection import train_test_split\n",
    "# Xtrain,Xtest,Ytrain,Ytest = train_test_split(X,Y,random_state=132,test_size=0.3)"
   ]
  },
  {
   "cell_type": "code",
   "execution_count": 5,
   "metadata": {},
   "outputs": [
    {
     "name": "stdout",
     "output_type": "stream",
     "text": [
      "0.696524064171123\n"
     ]
    },
    {
     "name": "stderr",
     "output_type": "stream",
     "text": [
      "/home/balram/anaconda3/lib/python3.7/site-packages/sklearn/svm/base.py:196: FutureWarning: The default value of gamma will change from 'auto' to 'scale' in version 0.22 to account better for unscaled features. Set gamma explicitly to 'auto' or 'scale' to avoid this warning.\n",
      "  \"avoid this warning.\", FutureWarning)\n"
     ]
    }
   ],
   "source": [
    "from sklearn.linear_model import LogisticRegression\n",
    "from sklearn.metrics import accuracy_score\n",
    "from sklearn.naive_bayes import GaussianNB\n",
    "clf1=LogisticRegression(solver='lbfgs', multi_class='multinomial',random_state=1)\n",
    "clf2=SVC()\n",
    "clf3=GaussianNB()\n",
    "model = VotingClassifier(estimators=[('lr', clf1), ('rf', clf2), ('gnb', clf3)], voting='hard')\n",
    "model = model.fit(X, Y)\n",
    "Ypred=model.predict(X)\n",
    "\n",
    "accuracy=accuracy_score(Ypred,Y)\n",
    "print(accuracy)"
   ]
  },
  {
   "cell_type": "code",
   "execution_count": 6,
   "metadata": {},
   "outputs": [],
   "source": [
    "X['c']=cluster1"
   ]
  },
  {
   "cell_type": "code",
   "execution_count": 7,
   "metadata": {},
   "outputs": [
    {
     "name": "stdout",
     "output_type": "stream",
     "text": [
      "0.8582887700534759\n"
     ]
    },
    {
     "name": "stderr",
     "output_type": "stream",
     "text": [
      "/home/balram/anaconda3/lib/python3.7/site-packages/sklearn/svm/base.py:196: FutureWarning: The default value of gamma will change from 'auto' to 'scale' in version 0.22 to account better for unscaled features. Set gamma explicitly to 'auto' or 'scale' to avoid this warning.\n",
      "  \"avoid this warning.\", FutureWarning)\n"
     ]
    }
   ],
   "source": [
    "model1=SVC().fit(X,Y)\n",
    "Ypred1=model1.predict(X)\n",
    "\n",
    "accuracy1=accuracy_score(Ypred1,Y)\n",
    "print(accuracy1)"
   ]
  },
  {
   "cell_type": "code",
   "execution_count": 9,
   "metadata": {},
   "outputs": [],
   "source": [
    "ind1=[]\n",
    "for i in range(Y.shape[0]):\n",
    "    if Ypred[i]!=Ypred1[i]:\n",
    "        ind1.append(i)"
   ]
  },
  {
   "cell_type": "markdown",
   "metadata": {},
   "source": [
    "## culprit points "
   ]
  },
  {
   "cell_type": "code",
   "execution_count": 10,
   "metadata": {},
   "outputs": [
    {
     "name": "stdout",
     "output_type": "stream",
     "text": [
      "24\n",
      "149\n",
      "135\n",
      "[3, 4, 5, 6, 8, 14, 15, 18, 22, 23, 26, 28, 31, 32, 33, 37, 45, 54, 56, 61, 63, 66, 80, 84, 85, 94, 98, 100, 108, 113, 115, 116, 119, 120, 122, 126, 130, 133, 142, 143, 145, 175, 195, 206, 239, 240, 244, 248, 249, 250, 260, 263, 265, 279, 285, 291, 303, 305, 308, 310, 315, 318, 321, 328, 333, 340, 341, 355, 362, 365, 369, 375, 376, 394, 396, 424, 427, 432, 440, 442, 444, 470, 474, 475, 490, 503, 505, 507, 510, 513, 515, 516, 518, 519, 523, 524, 528, 530, 531, 533, 534, 535, 536, 537, 538, 540, 547, 549, 551, 553, 566, 567, 568, 570, 576, 593, 627, 639, 640, 641, 653, 663, 680, 684, 695, 698, 699, 708, 713, 714, 719, 722, 726, 742, 743]\n"
     ]
    }
   ],
   "source": [
    "set_k=set(k)\n",
    "set_ind=set(ind1)\n",
    "wq=set_k&set_ind\n",
    "print(len(wq))\n",
    "print(len(k))\n",
    "print(len(ind1))\n",
    "print(ind1)"
   ]
  },
  {
   "cell_type": "markdown",
   "metadata": {},
   "source": [
    "## accuracy after removing culprit point"
   ]
  },
  {
   "cell_type": "code",
   "execution_count": 11,
   "metadata": {},
   "outputs": [],
   "source": [
    "x=[]\n",
    "y=[]\n",
    "X=np.array(X)\n",
    "for i in range(X.shape[0]):\n",
    "    if i not in ind1:\n",
    "        x.append(X[i])\n",
    "        y.append(Y[i])\n",
    "\n",
    "        \n",
    "#         x.append(X[i])\n",
    "#         x=[]\n",
    "        #print(X[i])\n",
    "        #x.append(X[i])\n",
    "        #y.append(Y[i])\n",
    "        "
   ]
  },
  {
   "cell_type": "code",
   "execution_count": 12,
   "metadata": {},
   "outputs": [],
   "source": [
    "from sklearn.naive_bayes import GaussianNB\n",
    "from sklearn.svm import SVC\n",
    "from sklearn.neighbors import KNeighborsClassifier\n",
    "from sklearn.tree import DecisionTreeClassifier"
   ]
  },
  {
   "cell_type": "code",
   "execution_count": 13,
   "metadata": {},
   "outputs": [
    {
     "name": "stdout",
     "output_type": "stream",
     "text": [
      "[1, 1, 1, 0, 1, 1, 0, 0, 0, 1, 1, 0, 1, 0, 0, 0, 1, 0, 0, 0, 0, 1, 0, 0, 0, 0, 0, 0, 1, 0, 0, 1, 0, 0, 1, 0, 0, 1, 0, 0, 0, 0, 0, 0, 0, 0, 0, 0, 1, 0, 1, 0, 1, 1, 1, 0, 0, 0, 0, 0, 0, 0, 0, 0, 0, 1, 1, 0, 0, 0, 0, 1, 1, 1, 0, 0, 0, 0, 0, 0, 0, 1, 0, 0, 0, 0, 0, 1, 0, 0, 0, 0, 0, 1, 0, 0, 0, 0, 0, 0, 0, 0, 0, 1, 1, 0, 0, 1, 0, 1, 0, 0, 1, 0, 0, 0, 0, 0, 1, 0, 1, 0, 1, 0, 1, 0, 0, 0, 0, 0, 0, 0, 0, 0, 1, 1, 0, 0, 0, 0, 0, 1, 1, 0, 0, 0, 1, 0, 0, 1, 0, 0, 1, 0, 1, 0, 0, 0, 0, 0, 0, 0, 0, 0, 0, 0, 0, 0, 0, 1, 0, 1, 1, 0, 0, 0, 0, 1, 1, 0, 0, 0, 0, 0, 0, 0, 1, 1, 0, 0, 0, 0, 0, 0, 0, 0, 1, 1, 0, 0, 0, 0, 0, 1, 1, 0, 0, 0, 0, 0, 1, 0, 0, 0, 0, 0, 0, 0, 0, 0, 0, 0, 0, 0, 0, 0, 0, 1, 0, 0, 0, 0, 0, 1, 1, 0, 0, 0, 1, 0, 0, 0, 0, 0, 1, 0, 0, 0, 0, 0, 0, 1, 0, 0, 0, 0, 0, 0, 1, 0, 1, 0, 0, 0, 0, 0, 0, 0, 1, 0, 1, 0, 0, 1, 0, 0, 0, 0, 0, 0, 1, 0, 0, 0, 0, 0, 1, 0, 0, 0, 0, 0, 0, 0, 0, 0, 0, 0, 0, 1, 0, 0, 0, 0, 0, 0, 0, 0, 0, 0, 1, 1, 0, 1, 0, 0, 0, 0, 1, 0, 0, 0, 1, 0, 0, 0, 0, 0, 0, 0, 0, 0, 0, 0, 0, 0, 0, 0, 0, 0, 0, 1, 0, 0, 0, 0, 0, 0, 0, 0, 0, 0, 0, 0, 0, 0, 0, 0, 0, 0, 0, 0, 0, 0, 0, 0, 1, 0, 0, 0, 0, 0, 0, 1, 1, 0, 0, 1, 0, 0, 0, 1, 0, 0, 0, 0, 0, 1, 0, 0, 1, 0, 0, 0, 0, 0, 0, 0, 0, 0, 0, 0, 0, 0, 0, 0, 0, 0, 0, 0, 0, 0, 0, 0, 0, 1, 1, 1, 1, 1, 1, 1, 1, 1, 1, 1, 0, 0, 0, 0, 1, 0, 0, 0, 1, 0, 1, 1, 0, 1, 1, 0, 0, 1, 0, 0, 0, 0, 0, 0, 0, 0, 1, 0, 1, 1, 0, 0, 1, 0, 1, 1, 0, 0, 1, 1, 1, 1, 0, 0, 0, 1, 0, 0, 0, 0, 0, 0, 0, 0, 1, 1, 0, 1, 0, 0, 0, 0, 1, 0, 0, 1, 1, 0, 0, 0, 1, 0, 0, 0, 0, 0, 1, 0, 0, 0, 0, 0, 1, 0, 0, 0, 0, 0, 0, 0, 0, 0, 0, 0, 0, 0, 0, 0, 0, 1, 1, 0, 0, 0, 0, 0, 0, 0, 0, 0, 0, 0, 0, 0, 1, 0, 1, 0, 0, 1, 0, 0, 0, 0, 0, 0, 0, 0, 0, 0, 0, 0, 0, 0, 0, 0, 0, 0, 0, 0, 0, 0, 0, 1, 0, 0, 0, 0, 1, 0, 0, 0, 0, 0, 0, 0, 1, 0, 1, 0, 0, 0, 0, 0, 0, 0, 0, 0, 0, 0, 0, 0, 0, 1, 1, 1, 0, 1, 0, 0, 0, 0, 0, 0, 0, 0, 0]\n"
     ]
    }
   ],
   "source": [
    "xc=list(x)\n",
    "xc=np.array(xc)\n",
    "x=xc\n",
    "print(y)\n"
   ]
  },
  {
   "cell_type": "code",
   "execution_count": 14,
   "metadata": {},
   "outputs": [
    {
     "name": "stdout",
     "output_type": "stream",
     "text": [
      "0.8368678629690048\n",
      "0.7944535073409462\n",
      "0.7618270799347472\n",
      "0.8809135399673735\n"
     ]
    },
    {
     "name": "stderr",
     "output_type": "stream",
     "text": [
      "/home/balram/anaconda3/lib/python3.7/site-packages/sklearn/svm/base.py:196: FutureWarning: The default value of gamma will change from 'auto' to 'scale' in version 0.22 to account better for unscaled features. Set gamma explicitly to 'auto' or 'scale' to avoid this warning.\n",
      "  \"avoid this warning.\", FutureWarning)\n"
     ]
    }
   ],
   "source": [
    "model1=SVC().fit(x,y)\n",
    "y_pred=model1.predict(x)\n",
    "print(accuracy_score(y,y_pred))\n",
    "\n",
    "\n",
    "model2=KNeighborsClassifier().fit(x,y)\n",
    "y_pred1=model2.predict(x)\n",
    "print(accuracy_score(y,y_pred1))\n",
    "\n",
    "\n",
    "model3=GaussianNB().fit(x,y)\n",
    "y_pred2=model3.predict(x)\n",
    "print(accuracy_score(y,y_pred2))\n",
    "\n",
    "model4=DecisionTreeClassifier().fit(x,y)\n",
    "y_pred3=model4.predict(x)\n",
    "print(accuracy_score(y,y_pred3))"
   ]
  },
  {
   "cell_type": "markdown",
   "metadata": {},
   "source": [
    "## accuracy after  fliping the data points"
   ]
  },
  {
   "cell_type": "code",
   "execution_count": 15,
   "metadata": {},
   "outputs": [],
   "source": [
    "for i in ind1:\n",
    "    if Y[i]==1:\n",
    "        Y[i]=0\n",
    "    else:\n",
    "        Y[i]=1"
   ]
  },
  {
   "cell_type": "code",
   "execution_count": 16,
   "metadata": {},
   "outputs": [
    {
     "name": "stdout",
     "output_type": "stream",
     "text": [
      "0.856951871657754\n",
      "0.8248663101604278\n",
      "0.7941176470588235\n",
      "0.893048128342246\n"
     ]
    },
    {
     "name": "stderr",
     "output_type": "stream",
     "text": [
      "/home/balram/anaconda3/lib/python3.7/site-packages/sklearn/svm/base.py:196: FutureWarning: The default value of gamma will change from 'auto' to 'scale' in version 0.22 to account better for unscaled features. Set gamma explicitly to 'auto' or 'scale' to avoid this warning.\n",
      "  \"avoid this warning.\", FutureWarning)\n"
     ]
    }
   ],
   "source": [
    "model1=SVC().fit(X,Y)\n",
    "y_pred=model1.predict(X)\n",
    "print(accuracy_score(Y,y_pred))\n",
    "\n",
    "\n",
    "model2=KNeighborsClassifier().fit(X,Y)\n",
    "y_pred1=model2.predict(X)\n",
    "print(accuracy_score(Y,y_pred1))\n",
    "\n",
    "\n",
    "model3=GaussianNB().fit(X,Y)\n",
    "y_pred2=model3.predict(X)\n",
    "print(accuracy_score(Y,y_pred2))\n",
    "\n",
    "model4=DecisionTreeClassifier().fit(X,Y)\n",
    "y_pred3=model4.predict(X)\n",
    "print(accuracy_score(Y,y_pred3))"
   ]
  }
 ],
 "metadata": {
  "kernelspec": {
   "display_name": "Python 3",
   "language": "python",
   "name": "python3"
  },
  "language_info": {
   "codemirror_mode": {
    "name": "ipython",
    "version": 3
   },
   "file_extension": ".py",
   "mimetype": "text/x-python",
   "name": "python",
   "nbconvert_exporter": "python",
   "pygments_lexer": "ipython3",
   "version": "3.7.1"
  }
 },
 "nbformat": 4,
 "nbformat_minor": 2
}

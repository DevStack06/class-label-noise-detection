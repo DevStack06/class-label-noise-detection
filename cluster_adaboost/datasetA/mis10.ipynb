{
 "cells": [
  {
   "cell_type": "code",
   "execution_count": 3,
   "metadata": {},
   "outputs": [],
   "source": [
    "import numpy as np\n",
    "import matplotlib.pyplot as plt\n",
    "from sklearn import datasets\n",
    "from sklearn import metrics\n",
    "from sklearn.model_selection import train_test_split\n",
    "from sklearn.cluster import DBSCAN\n",
    "from sklearn.cluster import KMeans\n",
    "import random\n",
    "import pandas as pd\n",
    "from sklearn import datasets"
   ]
  },
  {
   "cell_type": "code",
   "execution_count": 4,
   "metadata": {},
   "outputs": [
    {
     "data": {
      "image/png": "[encoded data removed]",
      "text/plain": [
       "<Figure size 432x288 with 1 Axes>"
      ]
     },
     "metadata": {
      "needs_background": "light"
     },
     "output_type": "display_data"
    }
   ],
   "source": [
    "from scipy.spatial.distance import cdist\n",
    "distortions = []\n",
    "cancer = datasets.load_breast_cancer()\n",
    "X=cancer.data\n",
    "Y=cancer.target\n",
    "K = range(1,10)\n",
    "for k in K:\n",
    "    kmeanModel = KMeans(n_clusters=k).fit(X)\n",
    "    kmeanModel.fit(X)\n",
    "    distortions.append(sum(np.min(cdist(X, kmeanModel.cluster_centers_, 'euclidean'), axis=1)) / X.shape[0])\n",
    "# Plot the elbow\n",
    "plt.plot(K, distortions, 'bx-')\n",
    "plt.xlabel('k')\n",
    "plt.ylabel('Distortion')\n",
    "plt.title('The Elbow Method showing the optimal k')\n",
    "plt.show()"
   ]
  },
  {
   "cell_type": "code",
   "execution_count": 5,
   "metadata": {},
   "outputs": [],
   "source": [
    "Y[Y == 0] = -1\n",
    "\n",
    "per=(Y.shape[0])*(20/100) #20% data will be mislabeled\n",
    "\n",
    "k=random.sample(range(Y.shape[0]), int(per)) #list of index no. of mislabeled data\n",
    "Y=np.array(Y)\n",
    "for i in k:\n",
    "    if Y[i-1]==1:\n",
    "        Y[i-1]=-1;\n",
    "    else:\n",
    "        Y[i-1]=1"
   ]
  },
  {
   "cell_type": "code",
   "execution_count": 6,
   "metadata": {},
   "outputs": [],
   "source": [
    "kmeanModel = KMeans(n_clusters=5).fit(X)"
   ]
  },
  {
   "cell_type": "code",
   "execution_count": 7,
   "metadata": {},
   "outputs": [],
   "source": [
    "cluster1=kmeanModel.labels_\n",
    "y1=[]\n",
    "y2=[]\n",
    "y3=[]\n",
    "y4=[]\n",
    "y5=[]\n",
    "x1=[]\n",
    "x2=[]\n",
    "x3=[]\n",
    "x4=[]\n",
    "x5=[]\n",
    "i1=[]\n",
    "i2=[]\n",
    "i3=[]\n",
    "i4=[]\n",
    "i5=[]\n",
    "for i in range(len(cluster1)):\n",
    "    if cluster1[i]==0:\n",
    "        y1.append(Y[i])\n",
    "        x1.append(X[i])\n",
    "        i1.append(i)\n",
    "    elif cluster1[i]==1:\n",
    "        y2.append(Y[i])\n",
    "        x2.append(X[i])\n",
    "        i2.append(i)\n",
    "    elif cluster1[i]==2:\n",
    "        y3.append(Y[i])\n",
    "        x3.append(X[i])\n",
    "        i3.append(i)\n",
    "    elif cluster1[i]==3:\n",
    "        y4.append(Y[i])\n",
    "        x4.append(X[i])\n",
    "        i4.append(i)\n",
    "    else:\n",
    "        y5.append(Y[i])\n",
    "        x5.append(X[i])\n",
    "        i5.append(i)\n",
    "    \n",
    "    "
   ]
  },
  {
   "cell_type": "code",
   "execution_count": 13,
   "metadata": {},
   "outputs": [],
   "source": [
    "x1=np.array(x1)\n",
    "y1=np.array(y1)\n",
    "x2=np.array(x2)\n",
    "y2=np.array(y2)\n",
    "x3=np.array(x3)\n",
    "y3=np.array(y3)\n",
    "x4=np.array(x4)\n",
    "y4=np.array(y4)\n",
    "x5=np.array(x5)\n",
    "y5=np.array(y5)\n",
    "weight_list1=[]\n",
    "weight_list2=[]\n",
    "weight_list3=[]\n",
    "weight_list4=[]\n",
    "weight_list5=[]\n",
    "weight_listh=[]\n",
    "weight_list1=np.reshape(i1,(len(i1),1))\n",
    "weight_list2=np.reshape(i2,(len(i2),1))\n",
    "weight_list3=np.reshape(i3,(len(i3),1))\n",
    "weight_list4=np.reshape(i4,(len(i4),1))\n",
    "weight_list5=np.reshape(i5,(len(i5),1))"
   ]
  },
  {
   "cell_type": "code",
   "execution_count": 14,
   "metadata": {},
   "outputs": [],
   "source": [
    "# print(weight_list1)"
   ]
  },
  {
   "cell_type": "code",
   "execution_count": 22,
   "metadata": {},
   "outputs": [
    {
     "name": "stderr",
     "output_type": "stream",
     "text": [
      "/home/balram/anaconda3/lib/python3.7/site-packages/sklearn/linear_model/logistic.py:433: FutureWarning: Default solver will be changed to 'lbfgs' in 0.22. Specify a solver to silence this warning.\n",
      "  FutureWarning)\n",
      "/home/balram/anaconda3/lib/python3.7/site-packages/sklearn/linear_model/logistic.py:433: FutureWarning: Default solver will be changed to 'lbfgs' in 0.22. Specify a solver to silence this warning.\n",
      "  FutureWarning)\n",
      "/home/balram/anaconda3/lib/python3.7/site-packages/sklearn/linear_model/logistic.py:433: FutureWarning: Default solver will be changed to 'lbfgs' in 0.22. Specify a solver to silence this warning.\n",
      "  FutureWarning)\n"
     ]
    }
   ],
   "source": [
    "from builtins import range, input\n",
    "import random\n",
    "from sklearn.model_selection import train_test_split\n",
    "import statistics\n",
    "import numpy as np\n",
    "import matplotlib.pyplot as plt\n",
    "from sklearn.tree import DecisionTreeClassifier\n",
    "import pandas as pd\n",
    "from sklearn import datasets\n",
    "import import_ipynb\n",
    "from sklearn import metrics\n",
    "\n",
    "\n",
    "from sklearn.linear_model import LogisticRegression\n",
    "\n",
    "class AdaBoost:\n",
    "  def __init__(self, M):\n",
    "    self.M = M\n",
    "\n",
    "  def fit(self, X, Y):\n",
    "    self.models = []\n",
    "    self.alphas = []\n",
    "\n",
    "    N = X.shape[0]\n",
    "    W = np.ones(N) / N\n",
    "\n",
    "    for m in range(self.M):\n",
    "      tree = LogisticRegression()\n",
    "      tree.fit(X,Y,sample_weight=W)\n",
    "      P = tree.predict(X)\n",
    "\n",
    "      err = W.dot(P != Y)\n",
    "      alpha = 0.5*(np.log(1 - err) - np.log(err))\n",
    "\n",
    "      W = W*np.exp(-alpha*Y*P) # vectorized form\n",
    "      W = W / W.sum() # normalize so it sums to 1\n",
    "      weight_list1.append(W)\n",
    "\n",
    "      self.models.append(tree)\n",
    "      self.alphas.append(alpha)\n",
    "\n",
    "  def predict(self, X):\n",
    "    # NOT like SKLearn API\n",
    "    # we want accuracy and exponential loss for plotting purposes\n",
    "    N, _ = X.shape\n",
    "    FX = np.zeros(N)\n",
    "    for alpha, tree in zip(self.alphas, self.models):\n",
    "      FX += alpha*tree.predict(X)\n",
    "    return np.sign(FX), FX\n",
    "\n",
    "  def score(self, X, Y):\n",
    "    # NOT like SKLearn API\n",
    "    # we want accuracy and exponential loss for plotting purposes\n",
    "    P, FX = self.predict(X)\n",
    "    L = np.exp(-Y*FX).mean()\n",
    "    return np.mean(P == Y), L\n",
    "\n",
    "\n",
    "\n",
    "\n",
    "\n",
    "\n",
    "if __name__ == '__main__':\n",
    "    itr=3\n",
    "    model = AdaBoost(itr)\n",
    "    model.fit(x1,y1)\n",
    "\n"
   ]
  },
  {
   "cell_type": "code",
   "execution_count": 23,
   "metadata": {},
   "outputs": [
    {
     "data": {
      "text/plain": [
       "46"
      ]
     },
     "execution_count": 23,
     "metadata": {},
     "output_type": "execute_result"
    }
   ],
   "source": [
    "weight_list1[0][4]"
   ]
  },
  {
   "cell_type": "code",
   "execution_count": null,
   "metadata": {},
   "outputs": [],
   "source": [
    "weight_list=np.array(weight_list1)\n",
    "\n",
    "#observing the wieght of instances\n",
    "#print(wieght_list)\n",
    "a=len(weight_list)\n",
    "\n",
    "#sorting data and finding mean\n",
    "nm=[] \n",
    "#nm=np.mean(weight_list, axis=0)\n",
    "nm=np.array(weight_list[itr-1])\n",
    "#print(nm)\n",
    "#ba=len(nm)\n",
    "Q=[]\n",
    "x=[]\n",
    "#print(a)\n",
    "for i in range(a):\n",
    "    x=[i,nm[i]]\n",
    "    Q.append(x)\n",
    "    x=[]\n",
    "#print(Q)\n",
    "Q.sort(key = lambda Q: Q[1]) \n",
    "\n",
    "\n",
    "\n",
    "id1=[]\n",
    "for i in range(y1.shape[0]):\n",
    "    id1.append(i)\n",
    "\n",
    "id_m1=[]\n",
    "mis1=[]\n",
    "for i in range(x1.shape[0]):\n",
    "    if weight_list1[0][i] in k:\n",
    "        mis1.append(weight_list1[itr][i])\n",
    "        id_m1.append(i)\n",
    "\n",
    "        \n",
    "id2=[]\n",
    "for i in range(y2.shape[0]):\n",
    "    id2.append(i)\n",
    "\n",
    "id_m2=[]\n",
    "mis2=[]\n",
    "for i in range(x2.shape[0]):\n",
    "    if weight_list2[0][i] in k:\n",
    "        mis2.append(weight_list2[itr][i])\n",
    "        id_m2.append(i)\n",
    "        \n",
    "        \n",
    "id3=[]\n",
    "for i in range(y3.shape[0]):\n",
    "    id3.append(i)\n",
    "\n",
    "id_m3=[]\n",
    "mis3=[]\n",
    "for i in range(x3.shape[0]):\n",
    "    if weight_list3[0][i] in k:\n",
    "        mis3.append(weight_list3[itr][i])\n",
    "        id_m3.append(i)\n",
    "        \n",
    "id4=[]\n",
    "for i in range(y4.shape[0]):\n",
    "    id4.append(i)\n",
    "\n",
    "id_m4=[]\n",
    "mis4=[]\n",
    "for i in range(x4.shape[0]):\n",
    "    if weight_list4[0][i] in k:\n",
    "        mis4.append(weight_list4[itr][i])\n",
    "        id_m4.append(i)\n",
    "    \n",
    "    "
   ]
  },
  {
   "cell_type": "code",
   "execution_count": 13,
   "metadata": {},
   "outputs": [
    {
     "data": {
      "text/plain": [
       "array([0.00498564, 0.00278802, 0.00707541, 0.00498564, 0.00395664,\n",
       "       0.00498564, 0.00278802, 0.00498564, 0.00707541, 0.00498564,\n",
       "       0.00278802, 0.00498564, 0.00278802, 0.00395664, 0.00395664,\n",
       "       0.00395664, 0.00707541, 0.00278802, 0.00395664, 0.0036323 ,\n",
       "       0.00395664, 0.0036323 , 0.00278802, 0.00395664, 0.00395664,\n",
       "       0.00395664, 0.0036323 , 0.00395664, 0.00707541, 0.0036323 ,\n",
       "       0.00395664, 0.00395664, 0.00707541, 0.00278802, 0.00649541,\n",
       "       0.00498564, 0.00498564, 0.00707541, 0.00395664, 0.00278802,\n",
       "       0.00278802, 0.00543082, 0.00707541, 0.00498564, 0.00543082,\n",
       "       0.0036323 , 0.00278802, 0.00498564, 0.00498564, 0.00278802,\n",
       "       0.00278802, 0.00498564, 0.0036323 , 0.00543082, 0.00278802,\n",
       "       0.00707541, 0.00498564, 0.00707541, 0.00278802, 0.00707541,\n",
       "       0.00395664, 0.00278802, 0.00707541, 0.00278802, 0.00707541,\n",
       "       0.00498564, 0.00278802, 0.00278802, 0.00278802, 0.00278802,\n",
       "       0.00278802, 0.00498564, 0.00498564, 0.00395664, 0.00278802,\n",
       "       0.00278802, 0.00498564, 0.00498564, 0.00498564, 0.00498564,\n",
       "       0.00498564, 0.00395664, 0.0036323 , 0.00707541, 0.00395664,\n",
       "       0.00707541, 0.00278802, 0.00278802, 0.00707541, 0.00543082,\n",
       "       0.00395664, 0.00395664, 0.00707541, 0.00278802, 0.00278802,\n",
       "       0.00278802, 0.00278802, 0.00278802, 0.00278802, 0.00707541,\n",
       "       0.00707541, 0.00707541, 0.00543082, 0.00278802, 0.00707541,\n",
       "       0.00707541, 0.00303697, 0.00278802, 0.00395664, 0.00278802,\n",
       "       0.00278802, 0.00395664, 0.00395664, 0.00395664, 0.00707541,\n",
       "       0.00303697, 0.00278802, 0.00278802, 0.00278802, 0.00278802,\n",
       "       0.00278802, 0.0036323 , 0.00278802, 0.00278802, 0.00278802,\n",
       "       0.00395664, 0.0036323 , 0.00707541, 0.0036323 , 0.00395664,\n",
       "       0.00395664, 0.00278802, 0.00278802, 0.00395664, 0.00395664,\n",
       "       0.00278802, 0.00303697, 0.00278802, 0.00278802, 0.00278802,\n",
       "       0.00278802, 0.0036323 , 0.00707541, 0.00278802, 0.00498564,\n",
       "       0.00498564, 0.00498564, 0.0036323 , 0.00395664, 0.0036323 ,\n",
       "       0.00395664, 0.00278802, 0.00278802, 0.00498564, 0.00278802,\n",
       "       0.00278802, 0.00278802, 0.00395664, 0.00707541, 0.0036323 ,\n",
       "       0.00543082, 0.00278802, 0.00278802, 0.00707541, 0.0036323 ,\n",
       "       0.00498564, 0.00498564, 0.00543082, 0.0036323 , 0.00707541,\n",
       "       0.0036323 , 0.0036323 , 0.00395664, 0.00278802, 0.00395664,\n",
       "       0.00543082, 0.00395664, 0.00498564, 0.00278802, 0.00707541,\n",
       "       0.00543082, 0.0036323 , 0.00395664, 0.00278802, 0.00395664,\n",
       "       0.00498564, 0.00278802, 0.00498564, 0.0036323 , 0.00707541,\n",
       "       0.00543082, 0.00278802, 0.00278802, 0.00498564, 0.00498564,\n",
       "       0.00278802, 0.0036323 , 0.00278802, 0.00707541, 0.00395664,\n",
       "       0.00278802, 0.00498564, 0.00278802, 0.00278802, 0.00498564,\n",
       "       0.00395664, 0.00395664, 0.00278802, 0.00395664, 0.0036323 ,\n",
       "       0.00395664, 0.00543082, 0.00395664, 0.00395664, 0.00498564,\n",
       "       0.00278802, 0.00395664, 0.00543082, 0.0036323 , 0.00498564,\n",
       "       0.00278802, 0.00278802, 0.00395664, 0.00395664, 0.00498564,\n",
       "       0.00278802, 0.00278802, 0.0036323 , 0.00395664, 0.00395664,\n",
       "       0.00498564, 0.00498564, 0.00395664, 0.00278802, 0.00543082,\n",
       "       0.00707541, 0.00707541])"
      ]
     },
     "execution_count": 13,
     "metadata": {},
     "output_type": "execute_result"
    }
   ],
   "source": [
    "weight_list1[itr]"
   ]
  },
  {
   "cell_type": "code",
   "execution_count": 14,
   "metadata": {},
   "outputs": [
    {
     "data": {
      "image/png": "[encoded data removed]",
      "text/plain": [
       "<Figure size 432x288 with 1 Axes>"
      ]
     },
     "metadata": {
      "needs_background": "light"
     },
     "output_type": "display_data"
    },
    {
     "name": "stdout",
     "output_type": "stream",
     "text": [
      "3\n"
     ]
    }
   ],
   "source": [
    "plt.scatter(id1,nm)\n",
    "plt.scatter(id_m1,mis1)\n",
    "plt.xlabel(\"index points\")\n",
    "plt.ylabel(\"weight of elements\")\n",
    "plt.title(\"points captured by our proposed solution (20 mislabelled and 10 iteration)\")\n",
    "plt.show()\n",
    "\n",
    "print(itr)"
   ]
  },
  {
   "cell_type": "code",
   "execution_count": null,
   "metadata": {},
   "outputs": [],
   "source": [
    "plt.scatter(id2,nm)\n",
    "plt.scatter(id_m2,mis2)\n",
    "plt.xlabel(\"index points\")\n",
    "plt.ylabel(\"weight of elements\")\n",
    "plt.title(\"points captured by our proposed solution (20 mislabelled and 10 iteration)\")\n",
    "plt.show()"
   ]
  },
  {
   "cell_type": "code",
   "execution_count": 15,
   "metadata": {},
   "outputs": [],
   "source": [
    "def common_member(a, b): \n",
    "    a_set = set(a) \n",
    "    b_set = set(b) \n",
    "    \n",
    "    if (a_set & b_set): \n",
    "        wq=a_set & b_set \n",
    "    else: \n",
    "        print(\"No common elements\")  \n",
    "    return wq"
   ]
  },
  {
   "cell_type": "code",
   "execution_count": null,
   "metadata": {},
   "outputs": [],
   "source": [
    "wq=common_member(k,ind)\n",
    "print(len(wq))"
   ]
  },
  {
   "cell_type": "code",
   "execution_count": 90,
   "metadata": {},
   "outputs": [
    {
     "name": "stdout",
     "output_type": "stream",
     "text": [
      "668\n"
     ]
    }
   ],
   "source": [
    "print(len(k))"
   ]
  },
  {
   "cell_type": "code",
   "execution_count": 91,
   "metadata": {},
   "outputs": [
    {
     "name": "stdout",
     "output_type": "stream",
     "text": [
      "3340\n"
     ]
    }
   ],
   "source": [
    "print(len(ind))"
   ]
  },
  {
   "cell_type": "code",
   "execution_count": 92,
   "metadata": {},
   "outputs": [
    {
     "name": "stdout",
     "output_type": "stream",
     "text": [
      "3340\n"
     ]
    }
   ],
   "source": [
    "print(len(Xtrain))\n",
    "Xtrain=np.array(Xtrain)"
   ]
  },
  {
   "cell_type": "code",
   "execution_count": 93,
   "metadata": {},
   "outputs": [
    {
     "data": {
      "image/png": "[encoded data removed]",
      "text/plain": [
       "<Figure size 432x288 with 1 Axes>"
      ]
     },
     "metadata": {
      "needs_background": "light"
     },
     "output_type": "display_data"
    }
   ],
   "source": [
    "index=list(range(len(Ytrain)))\n",
    "plt.scatter(Xtrain[1],Xtrain[0])\n",
    "plt.show()"
   ]
  },
  {
   "cell_type": "code",
   "execution_count": 58,
   "metadata": {},
   "outputs": [
    {
     "name": "stdout",
     "output_type": "stream",
     "text": [
      "[[2.201e+01 2.190e+01 1.472e+02 ... 2.432e-01 2.741e-01 8.574e-02]\n",
      " [1.720e+01 2.452e+01 1.142e+02 ... 1.899e-01 3.313e-01 1.339e-01]\n",
      " [1.513e+01 2.981e+01 9.671e+01 ... 6.575e-02 3.233e-01 6.165e-02]\n",
      " ...\n",
      " [1.611e+01 1.805e+01 1.051e+02 ... 1.216e-01 2.792e-01 8.158e-02]\n",
      " [1.048e+01 1.986e+01 6.672e+01 ... 6.736e-02 2.883e-01 7.748e-02]\n",
      " [1.729e+01 2.213e+01 1.144e+02 ... 1.528e-01 3.067e-01 7.484e-02]]\n"
     ]
    }
   ],
   "source": [
    "print(Xtrain)"
   ]
  }
 ],
 "metadata": {
  "kernelspec": {
   "display_name": "Python 3",
   "language": "python",
   "name": "python3"
  },
  "language_info": {
   "codemirror_mode": {
    "name": "ipython",
    "version": 3
   },
   "file_extension": ".py",
   "mimetype": "text/x-python",
   "name": "python",
   "nbconvert_exporter": "python",
   "pygments_lexer": "ipython3",
   "version": "3.7.1"
  }
 },
 "nbformat": 4,
 "nbformat_minor": 2
}
